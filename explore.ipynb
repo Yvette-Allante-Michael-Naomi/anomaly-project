{
 "cells": [
  {
   "cell_type": "code",
   "execution_count": null,
   "id": "84b5be48",
   "metadata": {},
   "outputs": [],
   "source": [
    "import warnings\n",
    "warnings.filterwarnings(\"ignore\")\n",
    "import matplotlib.pyplot as plt\n",
    "\n",
    "import os\n",
    "import numpy as np\n",
    "import pandas as pd\n",
    "import seaborn as sns\n",
    "import env\n",
    "\n",
    "import wrangle as w"
   ]
  },
  {
   "cell_type": "code",
   "execution_count": null,
   "id": "0ca9f42e",
   "metadata": {},
   "outputs": [],
   "source": [
    "df = w.wrangle_log_data()"
   ]
  },
  {
   "cell_type": "code",
   "execution_count": null,
   "id": "4444b035",
   "metadata": {},
   "outputs": [],
   "source": [
    "#initializing df for exploring the cohorts' paths accessed\n",
    "name_path = df[['name','path', 'program_name']]"
   ]
  },
  {
   "cell_type": "code",
   "execution_count": null,
   "id": "a2c0842b",
   "metadata": {},
   "outputs": [],
   "source": [
    "def get_cohort_top10_paths(cohort, name_path):\n",
    "    \n",
    "    ''' This function prints the 10 most accessed paths for the given cohort.'''\n",
    "    df = name_path[name_path.name == cohort]\n",
    "    df = df[df.path != 'toc']\n",
    "    df = df[df.path != '/']\n",
    "    df = df[df.path != 'search/search_index.json']\n",
    "    print(f'{cohort} top 10 lessons accessed:\\n')\n",
    "    return print(df.path.value_counts().head(10))"
   ]
  },
  {
   "cell_type": "code",
   "execution_count": null,
   "id": "293f627c",
   "metadata": {},
   "outputs": [],
   "source": [
    "def get_cohort_bottom10_paths(cohort, name_path):\n",
    "    \n",
    "    ''' This function prints the 10 least accessed paths for the given cohort.'''\n",
    "    df = name_path[name_path.name == cohort]\n",
    "    df = df[df.path != 'toc']\n",
    "    df = df[df.path != '/']\n",
    "    df = df[df.path != 'search/search_index.json']\n",
    "    print(f'{cohort} bottom 10 lessons accessed:\\n')\n",
    "    return print(df.path.value_counts().tail(10))"
   ]
  },
  {
   "cell_type": "code",
   "execution_count": null,
   "id": "92b0bccd",
   "metadata": {},
   "outputs": [],
   "source": []
  }
 ],
 "metadata": {
  "kernelspec": {
   "display_name": "Python 3 (ipykernel)",
   "language": "python",
   "name": "python3"
  },
  "language_info": {
   "codemirror_mode": {
    "name": "ipython",
    "version": 3
   },
   "file_extension": ".py",
   "mimetype": "text/x-python",
   "name": "python",
   "nbconvert_exporter": "python",
   "pygments_lexer": "ipython3",
   "version": "3.9.12"
  }
 },
 "nbformat": 4,
 "nbformat_minor": 5
}
