{
 "cells": [
  {
   "cell_type": "code",
   "execution_count": 1,
   "id": "87356981",
   "metadata": {},
   "outputs": [],
   "source": [
    "import warnings\n",
    "warnings.filterwarnings(\"ignore\")\n",
    "import matplotlib.pyplot as plt\n",
    "\n",
    "import numpy as np\n",
    "import pandas as pd\n",
    "import seaborn as sns\n",
    "import env"
   ]
  },
  {
   "cell_type": "markdown",
   "id": "bf2ff220",
   "metadata": {},
   "source": [
    "# Questions we answered:\n",
    "\n",
    "- Which lesson appears to attract the most traffic consistently across cohorts (per program)?\n",
    "\n",
    "\n",
    "- Is there a cohort that referred to a lesson significantly more than other cohorts seemed to gloss over?\n",
    "\n",
    "- At some point in 2019, the ability for students and alumni to access both curriculums (web dev to ds, ds to web dev) should have been shut off. Do you see any evidence of that happening? Did it happen before?\n",
    "\n",
    "- What topics are grads continuing to reference after graduation and into their jobs (for each program)?\n",
    "\n",
    "- Which lessons are least accessed?\n"
   ]
  },
  {
   "cell_type": "code",
   "execution_count": null,
   "id": "2dd36841",
   "metadata": {},
   "outputs": [],
   "source": []
  }
 ],
 "metadata": {
  "kernelspec": {
   "display_name": "Python 3 (ipykernel)",
   "language": "python",
   "name": "python3"
  },
  "language_info": {
   "codemirror_mode": {
    "name": "ipython",
    "version": 3
   },
   "file_extension": ".py",
   "mimetype": "text/x-python",
   "name": "python",
   "nbconvert_exporter": "python",
   "pygments_lexer": "ipython3",
   "version": "3.9.12"
  }
 },
 "nbformat": 4,
 "nbformat_minor": 5
}
