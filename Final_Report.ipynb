{
 "cells": [
  {
   "cell_type": "code",
   "execution_count": 1,
   "id": "da7220e0",
   "metadata": {},
   "outputs": [],
   "source": [
    "import warnings\n",
    "warnings.filterwarnings(\"ignore\")\n",
    "import matplotlib.pyplot as plt\n",
    "\n",
    "import os\n",
    "import numpy as np\n",
    "import pandas as pd\n",
    "import seaborn as sns\n",
    "import env\n",
    "\n",
    "import wrangle as w\n",
    "import explore as e"
   ]
  },
  {
   "cell_type": "markdown",
   "id": "b55eb2e4",
   "metadata": {},
   "source": [
    "# Questions we answered:\n",
    "\n",
    "- Which lesson appears to attract the most traffic consistently across cohorts (per program)?\n",
    "\n",
    "\n",
    "- Is there a cohort that referred to a lesson significantly more than other cohorts seemed to gloss over?\n",
    "\n",
    "\n",
    "- At some point in 2019, the ability for students and alumni to access both curriculums (web dev to ds, ds to web dev) should have been shut off. Do you see any evidence of that happening? Did it happen before?\n",
    "\n",
    "\n",
    "- What topics are grads continuing to reference after graduation and into their jobs (for each program)?\n",
    "\n",
    "\n",
    "- Which lessons are least accessed?\n"
   ]
  },
  {
   "cell_type": "markdown",
   "id": "feb7da29",
   "metadata": {},
   "source": [
    "# Executive Summary "
   ]
  },
  {
   "cell_type": "markdown",
   "id": "cea89b2a",
   "metadata": {},
   "source": [
    "<div class=\"alert alert-info\">    \n",
    "    \n",
    "* Most visited lesson by program \n",
    "    * Data Science - classification \n",
    "    * Full Stack Front End - HTML-CSS\n",
    "    * Full Stack Java - javascript-i\n",
    "    * Full Stack PHP - index.html\n",
    "\n",
    "* Curriculum access highlights\n",
    "    * Fortuna accessed the java-iii lesson more frequently than the other 4 cohorts investigated.\n",
    "    * Ceres and Jupiter accessed html-css more often than Jupiter, Fortuna, and Voyageur\n",
    "    * Darden viewed the classification/overview lesson the most out of all 5 Data Science cohorts by a significant margin. \n",
    "    \n",
    "* It seems access was completely shut off before 2019 but not after 2019 for web development. There are  instances of web development students accessing data science curriculum even after graduation. For the Data Science classes access to web development content was shut down before and after 2019.</div>\n"
   ]
  },
  {
   "cell_type": "markdown",
   "id": "7a98c7a4",
   "metadata": {},
   "source": [
    "# Acquire\n",
    "\n",
    "- Data was acquired from CodeUp database using mySQL"
   ]
  },
  {
   "cell_type": "code",
   "execution_count": 2,
   "id": "8689f657",
   "metadata": {},
   "outputs": [],
   "source": [
    "# abtain data\n",
    "df = w.wrangle_log_data()"
   ]
  },
  {
   "cell_type": "code",
   "execution_count": 3,
   "id": "f74863b1",
   "metadata": {},
   "outputs": [],
   "source": [
    "# make the date the index for data frame\n",
    "df.date = pd.to_datetime(df.date)\n",
    "df = df.set_index(df.date)"
   ]
  },
  {
   "cell_type": "markdown",
   "id": "ad633597",
   "metadata": {},
   "source": [
    "## Which lesson appears to attract the most traffic consistently across cohorts (per program)?\n"
   ]
  },
  {
   "cell_type": "code",
   "execution_count": 4,
   "id": "246ea807",
   "metadata": {},
   "outputs": [
    {
     "data": {
      "text/plain": [
       "/                                           8358\n",
       "search/search_index.json                    2203\n",
       "classification/overview                     1785\n",
       "1-fundamentals/modern-data-scientist.jpg    1655\n",
       "1-fundamentals/AI-ML-DL-timeline.jpg        1651\n",
       "1-fundamentals/1.1-intro-to-data-science    1633\n",
       "classification/scale_features_or_not.svg    1590\n",
       "fundamentals/AI-ML-DL-timeline.jpg          1443\n",
       "fundamentals/modern-data-scientist.jpg      1438\n",
       "sql/mysql-overview                          1424\n",
       "Name: path, dtype: int64"
      ]
     },
     "execution_count": 4,
     "metadata": {},
     "output_type": "execute_result"
    }
   ],
   "source": [
    "# all data science cohorts into dataframe \n",
    "ds_cohorts = df.loc[df[\"program_name\"] == \"data_science\"]\n",
    "# aggregate data science page counts \n",
    "ds_cohorts.path.value_counts().nlargest(10)"
   ]
  },
  {
   "cell_type": "code",
   "execution_count": 5,
   "id": "39c78b2d",
   "metadata": {},
   "outputs": [
    {
     "data": {
      "text/plain": [
       "content/html-css                               2\n",
       "/                                              1\n",
       "content/html-css/gitbook/images/favicon.ico    1\n",
       "content/html-css/introduction.html             1\n",
       "Name: path, dtype: int64"
      ]
     },
     "execution_count": 5,
     "metadata": {},
     "output_type": "execute_result"
    }
   ],
   "source": [
    "# all Front End Cohorts into dataframe \n",
    "front_end_cohorts = df.loc[df[\"program_name\"] == \"front_end\"]\n",
    "# aggregate data science page counts \n",
    "front_end_cohorts.path.value_counts().nlargest(10)"
   ]
  },
  {
   "cell_type": "code",
   "execution_count": 6,
   "id": "4bd1961d",
   "metadata": {},
   "outputs": [
    {
     "data": {
      "text/plain": [
       "/                           35814\n",
       "javascript-i                17457\n",
       "toc                         17428\n",
       "search/search_index.json    15212\n",
       "java-iii                    12683\n",
       "html-css                    12569\n",
       "java-ii                     11719\n",
       "spring                      11376\n",
       "jquery                      10693\n",
       "mysql                       10318\n",
       "Name: path, dtype: int64"
      ]
     },
     "execution_count": 6,
     "metadata": {},
     "output_type": "execute_result"
    }
   ],
   "source": [
    "# all Full Stack Java Cohorts into dataframe \n",
    "full_stack_java_cohorts = df.loc[df[\"program_name\"] == \"full_stack_java\"]\n",
    "# aggregate data science page counts \n",
    "full_stack_java_cohorts.path.value_counts().nlargest(10)"
   ]
  },
  {
   "cell_type": "code",
   "execution_count": 7,
   "id": "b7f3f03c",
   "metadata": {},
   "outputs": [
    {
     "data": {
      "text/plain": [
       "/                1681\n",
       "index.html       1011\n",
       "javascript-i      736\n",
       "html-css          542\n",
       "spring            501\n",
       "java-iii          479\n",
       "java-ii           454\n",
       "java-i            444\n",
       "javascript-ii     429\n",
       "appendix          409\n",
       "Name: path, dtype: int64"
      ]
     },
     "execution_count": 7,
     "metadata": {},
     "output_type": "execute_result"
    }
   ],
   "source": [
    "# all Full Stack PHP Cohorts into dataframe \n",
    "full_stack_php_cohorts = df.loc[df[\"program_name\"] == \"full_stack_php\"]\n",
    "# aggregate data science page counts \n",
    "full_stack_php_cohorts.path.value_counts().nlargest(10)"
   ]
  },
  {
   "cell_type": "markdown",
   "id": "9279a2e9",
   "metadata": {},
   "source": [
    "### Takeaways \n",
    "\n",
    "**Most accessed lessons**\n",
    "\n",
    "- Data Science program is classification/overview\n",
    "- Front End program is content/html-css  \n",
    "- Full Stack Java program is javascript-i\n",
    "- Full Stack PHP program is index.html "
   ]
  },
  {
   "cell_type": "markdown",
   "id": "d13a1f9f",
   "metadata": {},
   "source": [
    "## Is there a cohort that referred to a lesson significantly more than other cohorts seemed to gloss over?"
   ]
  },
  {
   "cell_type": "code",
   "execution_count": 8,
   "id": "a6222df6",
   "metadata": {},
   "outputs": [],
   "source": [
    "# initializing df for exploring the cohorts' paths accessed\n",
    "name_path = df[['name','path', 'program_name']]"
   ]
  },
  {
   "cell_type": "markdown",
   "id": "ae0a7392",
   "metadata": {},
   "source": [
    "### Web Dev most accessed:"
   ]
  },
  {
   "cell_type": "code",
   "execution_count": 9,
   "id": "ba6aabb7",
   "metadata": {},
   "outputs": [],
   "source": [
    "# initializing df for full_stack_java program cohorts and paths\n",
    "full_stack_java_df = name_path[name_path.program_name == 'full_stack_java']"
   ]
  },
  {
   "cell_type": "code",
   "execution_count": 10,
   "id": "b9e67603",
   "metadata": {},
   "outputs": [
    {
     "name": "stdout",
     "output_type": "stream",
     "text": [
      "Ceres top 10 lessons accessed:\n",
      "\n",
      "javascript-i                                   1003\n",
      "html-css                                        766\n",
      "java-iii                                        682\n",
      "java-ii                                         681\n",
      "jquery                                          637\n",
      "mysql                                           622\n",
      "spring                                          562\n",
      "javascript-ii                                   534\n",
      "java-i                                          526\n",
      "html-css/css-i/flexbox/flexbox-fundamentals     471\n",
      "Name: path, dtype: int64\n"
     ]
    }
   ],
   "source": [
    "# get 10 most accessed paths\n",
    "e.get_cohort_top10_paths('Ceres', full_stack_java_df)"
   ]
  },
  {
   "cell_type": "code",
   "execution_count": 11,
   "id": "f703db77",
   "metadata": {},
   "outputs": [
    {
     "name": "stdout",
     "output_type": "stream",
     "text": [
      "Jupiter top 10 lessons accessed:\n",
      "\n",
      "javascript-i     926\n",
      "java-iii         795\n",
      "html-css         784\n",
      "java-ii          755\n",
      "spring           621\n",
      "mysql            564\n",
      "java-i           503\n",
      "jquery           446\n",
      "mysql/tables     439\n",
      "javascript-ii    431\n",
      "Name: path, dtype: int64\n"
     ]
    }
   ],
   "source": [
    "e.get_cohort_top10_paths('Jupiter', full_stack_java_df)"
   ]
  },
  {
   "cell_type": "code",
   "execution_count": 12,
   "id": "f20597da",
   "metadata": {},
   "outputs": [
    {
     "name": "stdout",
     "output_type": "stream",
     "text": [
      "Zion top 10 lessons accessed:\n",
      "\n",
      "javascript-i                        897\n",
      "java-iii                            753\n",
      "html-css                            675\n",
      "spring                              672\n",
      "javascript-ii                       647\n",
      "java-ii                             624\n",
      "java-i                              605\n",
      "mysql                               605\n",
      "jquery                              560\n",
      "spring/fundamentals/repositories    427\n",
      "Name: path, dtype: int64\n"
     ]
    }
   ],
   "source": [
    "e.get_cohort_top10_paths('Zion', full_stack_java_df)"
   ]
  },
  {
   "cell_type": "code",
   "execution_count": 13,
   "id": "607c5342",
   "metadata": {},
   "outputs": [
    {
     "name": "stdout",
     "output_type": "stream",
     "text": [
      "Fortuna top 10 lessons accessed:\n",
      "\n",
      "java-iii             786\n",
      "javascript-i         785\n",
      "java-ii              657\n",
      "spring               636\n",
      "mysql                591\n",
      "html-css             585\n",
      "java-i               555\n",
      "jquery               514\n",
      "javascript-ii        497\n",
      "java-iii/servlets    429\n",
      "Name: path, dtype: int64\n"
     ]
    }
   ],
   "source": [
    "e.get_cohort_top10_paths('Fortuna', full_stack_java_df)"
   ]
  },
  {
   "cell_type": "code",
   "execution_count": 14,
   "id": "50f0f474",
   "metadata": {},
   "outputs": [
    {
     "name": "stdout",
     "output_type": "stream",
     "text": [
      "Voyageurs top 10 lessons accessed:\n",
      "\n",
      "javascript-i                   884\n",
      "java-iii                       770\n",
      "java-ii                        756\n",
      "mysql                          663\n",
      "spring                         650\n",
      "java-i                         641\n",
      "javascript-ii                  584\n",
      "jquery                         583\n",
      "html-css                       528\n",
      "java-i/introduction-to-java    447\n",
      "Name: path, dtype: int64\n"
     ]
    }
   ],
   "source": [
    "e.get_cohort_top10_paths('Voyageurs', full_stack_java_df)"
   ]
  },
  {
   "cell_type": "markdown",
   "id": "31d035e0",
   "metadata": {},
   "source": [
    "### For Web Dev cohorts with the top 5 most log observations (Ceres, Zion, Jupiter, Fortuna, Voyageurs):\n",
    "\n",
    "\n",
    "- Fortuna accessed the java-iii lesson more frequently than the other 4 cohorts investigated.\n",
    "\n",
    "\n",
    "- Ceres and Jupiter accessed html-css more often than Jupiter, Fortuna, and Voyageur\n"
   ]
  },
  {
   "cell_type": "markdown",
   "id": "fe16a476",
   "metadata": {},
   "source": [
    "### Data Science most accessed:"
   ]
  },
  {
   "cell_type": "code",
   "execution_count": 15,
   "id": "aceb7cb6",
   "metadata": {},
   "outputs": [],
   "source": [
    "#initializing df for data_science program cohorts and paths\n",
    "data_science = name_path[name_path.program_name == 'data_science']"
   ]
  },
  {
   "cell_type": "code",
   "execution_count": 16,
   "id": "e47640ad",
   "metadata": {},
   "outputs": [
    {
     "name": "stdout",
     "output_type": "stream",
     "text": [
      "Darden top 10 lessons accessed:\n",
      "\n",
      "classification/overview                           1109\n",
      "classification/scale_features_or_not.svg           943\n",
      "sql/mysql-overview                                 774\n",
      "anomaly-detection/AnomalyDetectionCartoon.jpeg     612\n",
      "anomaly-detection/overview                         592\n",
      "1-fundamentals/AI-ML-DL-timeline.jpg               470\n",
      "1-fundamentals/modern-data-scientist.jpg           470\n",
      "1-fundamentals/1.1-intro-to-data-science           460\n",
      "classification/logistic-regression                 423\n",
      "stats/compare-means                                423\n",
      "Name: path, dtype: int64\n"
     ]
    }
   ],
   "source": [
    "# get 10 most accessed paths\n",
    "e.get_cohort_top10_paths('Darden', data_science)"
   ]
  },
  {
   "cell_type": "code",
   "execution_count": 17,
   "id": "31b7f7d6",
   "metadata": {},
   "outputs": [
    {
     "name": "stdout",
     "output_type": "stream",
     "text": [
      "Bayes top 10 lessons accessed:\n",
      "\n",
      "1-fundamentals/modern-data-scientist.jpg             650\n",
      "1-fundamentals/AI-ML-DL-timeline.jpg                 648\n",
      "1-fundamentals/1.1-intro-to-data-science             640\n",
      "6-regression/1-overview                              521\n",
      "10-anomaly-detection/AnomalyDetectionCartoon.jpeg    387\n",
      "10-anomaly-detection/1-overview                      384\n",
      "6-regression/5.0-evaluate                            333\n",
      "5-stats/3-probability-distributions                  320\n",
      "5-stats/4.2-compare-means                            316\n",
      "appendix/cli-git-overview                            311\n",
      "Name: path, dtype: int64\n"
     ]
    }
   ],
   "source": [
    "e.get_cohort_top10_paths('Bayes', data_science)"
   ]
  },
  {
   "cell_type": "code",
   "execution_count": 18,
   "id": "859aac87",
   "metadata": {},
   "outputs": [
    {
     "name": "stdout",
     "output_type": "stream",
     "text": [
      "Curie top 10 lessons accessed:\n",
      "\n",
      "6-regression/1-overview                              595\n",
      "1-fundamentals/modern-data-scientist.jpg             467\n",
      "1-fundamentals/AI-ML-DL-timeline.jpg                 465\n",
      "1-fundamentals/1.1-intro-to-data-science             461\n",
      "3-sql/1-mysql-overview                               441\n",
      "10-anomaly-detection/AnomalyDetectionCartoon.jpeg    345\n",
      "10-anomaly-detection/1-overview                      345\n",
      "4-python/8.4.3-dataframes                            260\n",
      "4-python/8.4.4-advanced-dataframes                   246\n",
      "4-python/3-data-types-and-variables                  234\n",
      "Name: path, dtype: int64\n"
     ]
    }
   ],
   "source": [
    "e.get_cohort_top10_paths('Curie', data_science)"
   ]
  },
  {
   "cell_type": "code",
   "execution_count": 19,
   "id": "67ee792a",
   "metadata": {},
   "outputs": [
    {
     "name": "stdout",
     "output_type": "stream",
     "text": [
      "Easley top 10 lessons accessed:\n",
      "\n",
      "classification/scale_features_or_not.svg                         463\n",
      "classification/overview                                          445\n",
      "classification/classical_programming_vs_machine_learning.jpeg    432\n",
      "fundamentals/AI-ML-DL-timeline.jpg                               381\n",
      "fundamentals/modern-data-scientist.jpg                           379\n",
      "fundamentals/intro-to-data-science                               372\n",
      "sql/mysql-overview                                               295\n",
      "regression/model                                                 204\n",
      "stats/compare-means                                              202\n",
      "classification/explore                                           186\n",
      "Name: path, dtype: int64\n"
     ]
    }
   ],
   "source": [
    "e.get_cohort_top10_paths('Easley', data_science)"
   ]
  },
  {
   "cell_type": "code",
   "execution_count": 20,
   "id": "7ea816dc",
   "metadata": {},
   "outputs": [
    {
     "name": "stdout",
     "output_type": "stream",
     "text": [
      "Florence top 10 lessons accessed:\n",
      "\n",
      "fundamentals/modern-data-scientist.jpg    627\n",
      "fundamentals/AI-ML-DL-timeline.jpg        624\n",
      "fundamentals/intro-to-data-science        615\n",
      "python/data-types-and-variables           258\n",
      "fundamentals/DataToAction_v2.jpg          208\n",
      "sql/mysql-overview                        203\n",
      "fundamentals/data-science-pipeline        189\n",
      "sql/joins                                 186\n",
      "sql/functions                             166\n",
      "sql/mysql-introduction                    165\n",
      "Name: path, dtype: int64\n"
     ]
    }
   ],
   "source": [
    "e.get_cohort_top10_paths('Florence', data_science)"
   ]
  },
  {
   "cell_type": "markdown",
   "id": "fa55d33a",
   "metadata": {},
   "source": [
    "### For the 5 Data Science cohorts with log observations ( Darden, Bayes, Curie, Easley, Florence):\n",
    "\n",
    "- Darden viewed the classification/overview lesson the most out of all 5 cohorts by a significant margin. Dardin had 1109 instances of this lesson, which 664 more instances than the next highest cohort, Easley.\n"
   ]
  },
  {
   "cell_type": "markdown",
   "id": "24a31fc0",
   "metadata": {},
   "source": [
    "## At some point in 2019, the ability for students and alumni to access both curriculums (web dev to ds, ds to web dev) should have been shut off. Do you see any evidence of that happening? Did it happen before?"
   ]
  },
  {
   "cell_type": "markdown",
   "id": "6e4395d7",
   "metadata": {},
   "source": [
    "#### Students Acess After 2019"
   ]
  },
  {
   "cell_type": "code",
   "execution_count": 21,
   "id": "135e62a7",
   "metadata": {
    "scrolled": true
   },
   "outputs": [],
   "source": [
    "# create data frame for 2019 \n",
    "students_2019n_after = df['2019':]"
   ]
  },
  {
   "cell_type": "code",
   "execution_count": 22,
   "id": "16e397f9",
   "metadata": {},
   "outputs": [],
   "source": [
    "# Seperate web develpment students from Data Science students\n",
    "web_after2019, data_after2019 = e.seperate_students_webdev_vs_datasci(students_2019n_after)"
   ]
  },
  {
   "cell_type": "code",
   "execution_count": 23,
   "id": "661425e0",
   "metadata": {},
   "outputs": [],
   "source": [
    "# drop nulls\n",
    "data_after2019.dropna(inplace =True)"
   ]
  },
  {
   "cell_type": "code",
   "execution_count": 24,
   "id": "e5edd694",
   "metadata": {
    "scrolled": false
   },
   "outputs": [
    {
     "data": {
      "text/html": [
       "<div>\n",
       "<style scoped>\n",
       "    .dataframe tbody tr th:only-of-type {\n",
       "        vertical-align: middle;\n",
       "    }\n",
       "\n",
       "    .dataframe tbody tr th {\n",
       "        vertical-align: top;\n",
       "    }\n",
       "\n",
       "    .dataframe thead th {\n",
       "        text-align: right;\n",
       "    }\n",
       "</style>\n",
       "<table border=\"1\" class=\"dataframe\">\n",
       "  <thead>\n",
       "    <tr style=\"text-align: right;\">\n",
       "      <th></th>\n",
       "      <th>date</th>\n",
       "      <th>time</th>\n",
       "      <th>path</th>\n",
       "      <th>user_id</th>\n",
       "      <th>cohort_id</th>\n",
       "      <th>ip</th>\n",
       "      <th>id</th>\n",
       "      <th>name</th>\n",
       "      <th>slack</th>\n",
       "      <th>start_date</th>\n",
       "      <th>end_date</th>\n",
       "      <th>created_at</th>\n",
       "      <th>updated_at</th>\n",
       "      <th>deleted_at</th>\n",
       "      <th>program_id</th>\n",
       "      <th>program_name</th>\n",
       "      <th>web_yes</th>\n",
       "    </tr>\n",
       "  </thead>\n",
       "  <tbody>\n",
       "  </tbody>\n",
       "</table>\n",
       "</div>"
      ],
      "text/plain": [
       "Empty DataFrame\n",
       "Columns: [date, time, path, user_id, cohort_id, ip, id, name, slack, start_date, end_date, created_at, updated_at, deleted_at, program_id, program_name, web_yes]\n",
       "Index: []"
      ]
     },
     "execution_count": 24,
     "metadata": {},
     "output_type": "execute_result"
    }
   ],
   "source": [
    "# obtain instances of cross curriculumn acess using java key words.\n",
    "e.get_double_acess(data_after2019,['java','html','css','spring'])"
   ]
  },
  {
   "cell_type": "code",
   "execution_count": 25,
   "id": "59b44105",
   "metadata": {},
   "outputs": [
    {
     "data": {
      "text/html": [
       "<div>\n",
       "<style scoped>\n",
       "    .dataframe tbody tr th:only-of-type {\n",
       "        vertical-align: middle;\n",
       "    }\n",
       "\n",
       "    .dataframe tbody tr th {\n",
       "        vertical-align: top;\n",
       "    }\n",
       "\n",
       "    .dataframe thead th {\n",
       "        text-align: right;\n",
       "    }\n",
       "</style>\n",
       "<table border=\"1\" class=\"dataframe\">\n",
       "  <thead>\n",
       "    <tr style=\"text-align: right;\">\n",
       "      <th></th>\n",
       "      <th>date</th>\n",
       "      <th>time</th>\n",
       "      <th>path</th>\n",
       "      <th>user_id</th>\n",
       "      <th>cohort_id</th>\n",
       "      <th>ip</th>\n",
       "      <th>id</th>\n",
       "      <th>name</th>\n",
       "      <th>slack</th>\n",
       "      <th>start_date</th>\n",
       "      <th>end_date</th>\n",
       "      <th>created_at</th>\n",
       "      <th>updated_at</th>\n",
       "      <th>deleted_at</th>\n",
       "      <th>program_id</th>\n",
       "      <th>program_name</th>\n",
       "      <th>web_yes</th>\n",
       "    </tr>\n",
       "  </thead>\n",
       "  <tbody>\n",
       "    <tr>\n",
       "      <th>0</th>\n",
       "      <td>2019-07-03</td>\n",
       "      <td>09:53:45</td>\n",
       "      <td>6-classification/exercises</td>\n",
       "      <td>404</td>\n",
       "      <td>28.0</td>\n",
       "      <td>97.105.19.58</td>\n",
       "      <td>28.0</td>\n",
       "      <td>Staff</td>\n",
       "      <td>#</td>\n",
       "      <td>2014-02-04</td>\n",
       "      <td>2014-02-04</td>\n",
       "      <td>2018-12-06 17:04:19</td>\n",
       "      <td>2018-12-06 17:04:19</td>\n",
       "      <td>NaN</td>\n",
       "      <td>2.0</td>\n",
       "      <td>full_stack_java</td>\n",
       "      <td>1.0</td>\n",
       "    </tr>\n",
       "    <tr>\n",
       "      <th>1</th>\n",
       "      <td>2019-07-03</td>\n",
       "      <td>09:53:51</td>\n",
       "      <td>6-classification/1-overview</td>\n",
       "      <td>404</td>\n",
       "      <td>28.0</td>\n",
       "      <td>97.105.19.58</td>\n",
       "      <td>28.0</td>\n",
       "      <td>Staff</td>\n",
       "      <td>#</td>\n",
       "      <td>2014-02-04</td>\n",
       "      <td>2014-02-04</td>\n",
       "      <td>2018-12-06 17:04:19</td>\n",
       "      <td>2018-12-06 17:04:19</td>\n",
       "      <td>NaN</td>\n",
       "      <td>2.0</td>\n",
       "      <td>full_stack_java</td>\n",
       "      <td>1.0</td>\n",
       "    </tr>\n",
       "    <tr>\n",
       "      <th>2</th>\n",
       "      <td>2019-07-03</td>\n",
       "      <td>13:05:50</td>\n",
       "      <td>6-classification/project</td>\n",
       "      <td>146</td>\n",
       "      <td>28.0</td>\n",
       "      <td>71.235.91.18</td>\n",
       "      <td>28.0</td>\n",
       "      <td>Staff</td>\n",
       "      <td>#</td>\n",
       "      <td>2014-02-04</td>\n",
       "      <td>2014-02-04</td>\n",
       "      <td>2018-12-06 17:04:19</td>\n",
       "      <td>2018-12-06 17:04:19</td>\n",
       "      <td>NaN</td>\n",
       "      <td>2.0</td>\n",
       "      <td>full_stack_java</td>\n",
       "      <td>1.0</td>\n",
       "    </tr>\n",
       "    <tr>\n",
       "      <th>3</th>\n",
       "      <td>2019-07-08</td>\n",
       "      <td>09:50:09</td>\n",
       "      <td>6-classification/1-overview</td>\n",
       "      <td>1</td>\n",
       "      <td>28.0</td>\n",
       "      <td>97.105.19.58</td>\n",
       "      <td>28.0</td>\n",
       "      <td>Staff</td>\n",
       "      <td>#</td>\n",
       "      <td>2014-02-04</td>\n",
       "      <td>2014-02-04</td>\n",
       "      <td>2018-12-06 17:04:19</td>\n",
       "      <td>2018-12-06 17:04:19</td>\n",
       "      <td>NaN</td>\n",
       "      <td>2.0</td>\n",
       "      <td>full_stack_java</td>\n",
       "      <td>1.0</td>\n",
       "    </tr>\n",
       "    <tr>\n",
       "      <th>4</th>\n",
       "      <td>2019-07-08</td>\n",
       "      <td>09:57:52</td>\n",
       "      <td>6-classification/2-intro-to-classification</td>\n",
       "      <td>1</td>\n",
       "      <td>28.0</td>\n",
       "      <td>97.105.19.58</td>\n",
       "      <td>28.0</td>\n",
       "      <td>Staff</td>\n",
       "      <td>#</td>\n",
       "      <td>2014-02-04</td>\n",
       "      <td>2014-02-04</td>\n",
       "      <td>2018-12-06 17:04:19</td>\n",
       "      <td>2018-12-06 17:04:19</td>\n",
       "      <td>NaN</td>\n",
       "      <td>2.0</td>\n",
       "      <td>full_stack_java</td>\n",
       "      <td>1.0</td>\n",
       "    </tr>\n",
       "    <tr>\n",
       "      <th>...</th>\n",
       "      <td>...</td>\n",
       "      <td>...</td>\n",
       "      <td>...</td>\n",
       "      <td>...</td>\n",
       "      <td>...</td>\n",
       "      <td>...</td>\n",
       "      <td>...</td>\n",
       "      <td>...</td>\n",
       "      <td>...</td>\n",
       "      <td>...</td>\n",
       "      <td>...</td>\n",
       "      <td>...</td>\n",
       "      <td>...</td>\n",
       "      <td>...</td>\n",
       "      <td>...</td>\n",
       "      <td>...</td>\n",
       "      <td>...</td>\n",
       "    </tr>\n",
       "    <tr>\n",
       "      <th>5160</th>\n",
       "      <td>2021-03-25</td>\n",
       "      <td>13:43:18</td>\n",
       "      <td>regression/multivariate-regression-in-excel</td>\n",
       "      <td>581</td>\n",
       "      <td>28.0</td>\n",
       "      <td>70.112.179.142</td>\n",
       "      <td>28.0</td>\n",
       "      <td>Staff</td>\n",
       "      <td>#</td>\n",
       "      <td>2014-02-04</td>\n",
       "      <td>2014-02-04</td>\n",
       "      <td>2018-12-06 17:04:19</td>\n",
       "      <td>2018-12-06 17:04:19</td>\n",
       "      <td>NaN</td>\n",
       "      <td>2.0</td>\n",
       "      <td>full_stack_java</td>\n",
       "      <td>1.0</td>\n",
       "    </tr>\n",
       "    <tr>\n",
       "      <th>5161</th>\n",
       "      <td>2021-03-25</td>\n",
       "      <td>13:43:27</td>\n",
       "      <td>regression/univariate_regression_in_excel</td>\n",
       "      <td>581</td>\n",
       "      <td>28.0</td>\n",
       "      <td>70.112.179.142</td>\n",
       "      <td>28.0</td>\n",
       "      <td>Staff</td>\n",
       "      <td>#</td>\n",
       "      <td>2014-02-04</td>\n",
       "      <td>2014-02-04</td>\n",
       "      <td>2018-12-06 17:04:19</td>\n",
       "      <td>2018-12-06 17:04:19</td>\n",
       "      <td>NaN</td>\n",
       "      <td>2.0</td>\n",
       "      <td>full_stack_java</td>\n",
       "      <td>1.0</td>\n",
       "    </tr>\n",
       "    <tr>\n",
       "      <th>5162</th>\n",
       "      <td>2021-03-25</td>\n",
       "      <td>13:43:33</td>\n",
       "      <td>regression/multivariate-regression-in-excel</td>\n",
       "      <td>581</td>\n",
       "      <td>28.0</td>\n",
       "      <td>70.112.179.142</td>\n",
       "      <td>28.0</td>\n",
       "      <td>Staff</td>\n",
       "      <td>#</td>\n",
       "      <td>2014-02-04</td>\n",
       "      <td>2014-02-04</td>\n",
       "      <td>2018-12-06 17:04:19</td>\n",
       "      <td>2018-12-06 17:04:19</td>\n",
       "      <td>NaN</td>\n",
       "      <td>2.0</td>\n",
       "      <td>full_stack_java</td>\n",
       "      <td>1.0</td>\n",
       "    </tr>\n",
       "    <tr>\n",
       "      <th>5163</th>\n",
       "      <td>2021-03-25</td>\n",
       "      <td>13:43:44</td>\n",
       "      <td>regression/univariate_regression_in_excel</td>\n",
       "      <td>581</td>\n",
       "      <td>28.0</td>\n",
       "      <td>70.112.179.142</td>\n",
       "      <td>28.0</td>\n",
       "      <td>Staff</td>\n",
       "      <td>#</td>\n",
       "      <td>2014-02-04</td>\n",
       "      <td>2014-02-04</td>\n",
       "      <td>2018-12-06 17:04:19</td>\n",
       "      <td>2018-12-06 17:04:19</td>\n",
       "      <td>NaN</td>\n",
       "      <td>2.0</td>\n",
       "      <td>full_stack_java</td>\n",
       "      <td>1.0</td>\n",
       "    </tr>\n",
       "    <tr>\n",
       "      <th>5164</th>\n",
       "      <td>2021-03-25</td>\n",
       "      <td>13:43:48</td>\n",
       "      <td>regression/multivariate-regression-in-excel</td>\n",
       "      <td>581</td>\n",
       "      <td>28.0</td>\n",
       "      <td>70.112.179.142</td>\n",
       "      <td>28.0</td>\n",
       "      <td>Staff</td>\n",
       "      <td>#</td>\n",
       "      <td>2014-02-04</td>\n",
       "      <td>2014-02-04</td>\n",
       "      <td>2018-12-06 17:04:19</td>\n",
       "      <td>2018-12-06 17:04:19</td>\n",
       "      <td>NaN</td>\n",
       "      <td>2.0</td>\n",
       "      <td>full_stack_java</td>\n",
       "      <td>1.0</td>\n",
       "    </tr>\n",
       "  </tbody>\n",
       "</table>\n",
       "<p>5165 rows × 17 columns</p>\n",
       "</div>"
      ],
      "text/plain": [
       "           date      time                                         path  \\\n",
       "0    2019-07-03  09:53:45                   6-classification/exercises   \n",
       "1    2019-07-03  09:53:51                  6-classification/1-overview   \n",
       "2    2019-07-03  13:05:50                     6-classification/project   \n",
       "3    2019-07-08  09:50:09                  6-classification/1-overview   \n",
       "4    2019-07-08  09:57:52   6-classification/2-intro-to-classification   \n",
       "...         ...       ...                                          ...   \n",
       "5160 2021-03-25  13:43:18  regression/multivariate-regression-in-excel   \n",
       "5161 2021-03-25  13:43:27    regression/univariate_regression_in_excel   \n",
       "5162 2021-03-25  13:43:33  regression/multivariate-regression-in-excel   \n",
       "5163 2021-03-25  13:43:44    regression/univariate_regression_in_excel   \n",
       "5164 2021-03-25  13:43:48  regression/multivariate-regression-in-excel   \n",
       "\n",
       "      user_id  cohort_id              ip    id   name slack  start_date  \\\n",
       "0         404       28.0    97.105.19.58  28.0  Staff     #  2014-02-04   \n",
       "1         404       28.0    97.105.19.58  28.0  Staff     #  2014-02-04   \n",
       "2         146       28.0    71.235.91.18  28.0  Staff     #  2014-02-04   \n",
       "3           1       28.0    97.105.19.58  28.0  Staff     #  2014-02-04   \n",
       "4           1       28.0    97.105.19.58  28.0  Staff     #  2014-02-04   \n",
       "...       ...        ...             ...   ...    ...   ...         ...   \n",
       "5160      581       28.0  70.112.179.142  28.0  Staff     #  2014-02-04   \n",
       "5161      581       28.0  70.112.179.142  28.0  Staff     #  2014-02-04   \n",
       "5162      581       28.0  70.112.179.142  28.0  Staff     #  2014-02-04   \n",
       "5163      581       28.0  70.112.179.142  28.0  Staff     #  2014-02-04   \n",
       "5164      581       28.0  70.112.179.142  28.0  Staff     #  2014-02-04   \n",
       "\n",
       "        end_date           created_at           updated_at  deleted_at  \\\n",
       "0     2014-02-04  2018-12-06 17:04:19  2018-12-06 17:04:19         NaN   \n",
       "1     2014-02-04  2018-12-06 17:04:19  2018-12-06 17:04:19         NaN   \n",
       "2     2014-02-04  2018-12-06 17:04:19  2018-12-06 17:04:19         NaN   \n",
       "3     2014-02-04  2018-12-06 17:04:19  2018-12-06 17:04:19         NaN   \n",
       "4     2014-02-04  2018-12-06 17:04:19  2018-12-06 17:04:19         NaN   \n",
       "...          ...                  ...                  ...         ...   \n",
       "5160  2014-02-04  2018-12-06 17:04:19  2018-12-06 17:04:19         NaN   \n",
       "5161  2014-02-04  2018-12-06 17:04:19  2018-12-06 17:04:19         NaN   \n",
       "5162  2014-02-04  2018-12-06 17:04:19  2018-12-06 17:04:19         NaN   \n",
       "5163  2014-02-04  2018-12-06 17:04:19  2018-12-06 17:04:19         NaN   \n",
       "5164  2014-02-04  2018-12-06 17:04:19  2018-12-06 17:04:19         NaN   \n",
       "\n",
       "      program_id     program_name  web_yes  \n",
       "0            2.0  full_stack_java      1.0  \n",
       "1            2.0  full_stack_java      1.0  \n",
       "2            2.0  full_stack_java      1.0  \n",
       "3            2.0  full_stack_java      1.0  \n",
       "4            2.0  full_stack_java      1.0  \n",
       "...          ...              ...      ...  \n",
       "5160         2.0  full_stack_java      1.0  \n",
       "5161         2.0  full_stack_java      1.0  \n",
       "5162         2.0  full_stack_java      1.0  \n",
       "5163         2.0  full_stack_java      1.0  \n",
       "5164         2.0  full_stack_java      1.0  \n",
       "\n",
       "[5165 rows x 17 columns]"
      ]
     },
     "execution_count": 25,
     "metadata": {},
     "output_type": "execute_result"
    }
   ],
   "source": [
    "# obtain instances of cross curriculumn acess using data science key words.\n",
    "e.get_double_acess(web_after2019,['classification','stats','excel'])"
   ]
  },
  {
   "cell_type": "markdown",
   "id": "2292e0e1",
   "metadata": {},
   "source": [
    "#### Students Acess Before 2019"
   ]
  },
  {
   "cell_type": "code",
   "execution_count": 26,
   "id": "e0d35fc2",
   "metadata": {},
   "outputs": [],
   "source": [
    "# create data frame for 2019 \n",
    "students_2019n_before = df[:'2018']"
   ]
  },
  {
   "cell_type": "code",
   "execution_count": 27,
   "id": "751182f8",
   "metadata": {},
   "outputs": [],
   "source": [
    "# Seperate web develpment students from Data Science students\n",
    "web_before2019, data_before2019 = e.seperate_students_webdev_vs_datasci(students_2019n_before)"
   ]
  },
  {
   "cell_type": "code",
   "execution_count": 28,
   "id": "b8438bef",
   "metadata": {},
   "outputs": [],
   "source": [
    "# drop nulls\n",
    "data_before2019.dropna(inplace =True)"
   ]
  },
  {
   "cell_type": "code",
   "execution_count": 29,
   "id": "aa834f7d",
   "metadata": {
    "scrolled": true
   },
   "outputs": [
    {
     "data": {
      "text/html": [
       "<div>\n",
       "<style scoped>\n",
       "    .dataframe tbody tr th:only-of-type {\n",
       "        vertical-align: middle;\n",
       "    }\n",
       "\n",
       "    .dataframe tbody tr th {\n",
       "        vertical-align: top;\n",
       "    }\n",
       "\n",
       "    .dataframe thead th {\n",
       "        text-align: right;\n",
       "    }\n",
       "</style>\n",
       "<table border=\"1\" class=\"dataframe\">\n",
       "  <thead>\n",
       "    <tr style=\"text-align: right;\">\n",
       "      <th></th>\n",
       "      <th>date</th>\n",
       "      <th>time</th>\n",
       "      <th>path</th>\n",
       "      <th>user_id</th>\n",
       "      <th>cohort_id</th>\n",
       "      <th>ip</th>\n",
       "      <th>id</th>\n",
       "      <th>name</th>\n",
       "      <th>slack</th>\n",
       "      <th>start_date</th>\n",
       "      <th>end_date</th>\n",
       "      <th>created_at</th>\n",
       "      <th>updated_at</th>\n",
       "      <th>deleted_at</th>\n",
       "      <th>program_id</th>\n",
       "      <th>program_name</th>\n",
       "      <th>web_yes</th>\n",
       "    </tr>\n",
       "  </thead>\n",
       "  <tbody>\n",
       "  </tbody>\n",
       "</table>\n",
       "</div>"
      ],
      "text/plain": [
       "Empty DataFrame\n",
       "Columns: [date, time, path, user_id, cohort_id, ip, id, name, slack, start_date, end_date, created_at, updated_at, deleted_at, program_id, program_name, web_yes]\n",
       "Index: []"
      ]
     },
     "execution_count": 29,
     "metadata": {},
     "output_type": "execute_result"
    }
   ],
   "source": [
    "# obtain instances of cross curriculumn acess using java key words.\n",
    "e.get_double_acess(data_before2019,['java','html','css','spring'])"
   ]
  },
  {
   "cell_type": "code",
   "execution_count": 30,
   "id": "a1627317",
   "metadata": {
    "scrolled": true
   },
   "outputs": [
    {
     "data": {
      "text/html": [
       "<div>\n",
       "<style scoped>\n",
       "    .dataframe tbody tr th:only-of-type {\n",
       "        vertical-align: middle;\n",
       "    }\n",
       "\n",
       "    .dataframe tbody tr th {\n",
       "        vertical-align: top;\n",
       "    }\n",
       "\n",
       "    .dataframe thead th {\n",
       "        text-align: right;\n",
       "    }\n",
       "</style>\n",
       "<table border=\"1\" class=\"dataframe\">\n",
       "  <thead>\n",
       "    <tr style=\"text-align: right;\">\n",
       "      <th></th>\n",
       "      <th>date</th>\n",
       "      <th>time</th>\n",
       "      <th>path</th>\n",
       "      <th>user_id</th>\n",
       "      <th>cohort_id</th>\n",
       "      <th>ip</th>\n",
       "      <th>id</th>\n",
       "      <th>name</th>\n",
       "      <th>slack</th>\n",
       "      <th>start_date</th>\n",
       "      <th>end_date</th>\n",
       "      <th>created_at</th>\n",
       "      <th>updated_at</th>\n",
       "      <th>deleted_at</th>\n",
       "      <th>program_id</th>\n",
       "      <th>program_name</th>\n",
       "      <th>web_yes</th>\n",
       "    </tr>\n",
       "  </thead>\n",
       "  <tbody>\n",
       "  </tbody>\n",
       "</table>\n",
       "</div>"
      ],
      "text/plain": [
       "Empty DataFrame\n",
       "Columns: [date, time, path, user_id, cohort_id, ip, id, name, slack, start_date, end_date, created_at, updated_at, deleted_at, program_id, program_name, web_yes]\n",
       "Index: []"
      ]
     },
     "execution_count": 30,
     "metadata": {},
     "output_type": "execute_result"
    }
   ],
   "source": [
    "# obtain instances of cross curriculumn acess using data science key words.\n",
    "e.get_double_acess(web_before2019,['classification','stats','excel'])"
   ]
  },
  {
   "cell_type": "markdown",
   "id": "159b099c",
   "metadata": {},
   "source": [
    "### TakeAway:\n",
    "It seems access was not completely shut off before 2019 but not after 2019.  \n",
    "There are  instances of web development students accessing data science curriculum even after graduation. \n",
    "For the Data Science classes access to web development content was shut down before and after 2019."
   ]
  },
  {
   "cell_type": "markdown",
   "id": "27291924",
   "metadata": {},
   "source": [
    "## What topics are grads continuing to reference after graduation and into their jobs (for each program)?"
   ]
  },
  {
   "cell_type": "code",
   "execution_count": 31,
   "id": "0e2c14ec",
   "metadata": {},
   "outputs": [
    {
     "data": {
      "text/html": [
       "<div>\n",
       "<style scoped>\n",
       "    .dataframe tbody tr th:only-of-type {\n",
       "        vertical-align: middle;\n",
       "    }\n",
       "\n",
       "    .dataframe tbody tr th {\n",
       "        vertical-align: top;\n",
       "    }\n",
       "\n",
       "    .dataframe thead th {\n",
       "        text-align: right;\n",
       "    }\n",
       "</style>\n",
       "<table border=\"1\" class=\"dataframe\">\n",
       "  <thead>\n",
       "    <tr style=\"text-align: right;\">\n",
       "      <th></th>\n",
       "      <th>date</th>\n",
       "      <th>time</th>\n",
       "      <th>path</th>\n",
       "      <th>user_id</th>\n",
       "      <th>cohort_id</th>\n",
       "      <th>ip</th>\n",
       "      <th>id</th>\n",
       "      <th>name</th>\n",
       "      <th>slack</th>\n",
       "      <th>start_date</th>\n",
       "      <th>end_date</th>\n",
       "      <th>created_at</th>\n",
       "      <th>updated_at</th>\n",
       "      <th>deleted_at</th>\n",
       "      <th>program_id</th>\n",
       "      <th>program_name</th>\n",
       "    </tr>\n",
       "    <tr>\n",
       "      <th>date</th>\n",
       "      <th></th>\n",
       "      <th></th>\n",
       "      <th></th>\n",
       "      <th></th>\n",
       "      <th></th>\n",
       "      <th></th>\n",
       "      <th></th>\n",
       "      <th></th>\n",
       "      <th></th>\n",
       "      <th></th>\n",
       "      <th></th>\n",
       "      <th></th>\n",
       "      <th></th>\n",
       "      <th></th>\n",
       "      <th></th>\n",
       "      <th></th>\n",
       "    </tr>\n",
       "  </thead>\n",
       "  <tbody>\n",
       "    <tr>\n",
       "      <th>2018-01-26</th>\n",
       "      <td>2018-01-26</td>\n",
       "      <td>09:55:03</td>\n",
       "      <td>/</td>\n",
       "      <td>1</td>\n",
       "      <td>8.0</td>\n",
       "      <td>97.105.19.61</td>\n",
       "      <td>8.0</td>\n",
       "      <td>Hampton</td>\n",
       "      <td>#hampton</td>\n",
       "      <td>2015-09-22</td>\n",
       "      <td>2016-02-06</td>\n",
       "      <td>2016-06-14 19:52:26</td>\n",
       "      <td>2016-06-14 19:52:26</td>\n",
       "      <td>NaN</td>\n",
       "      <td>1.0</td>\n",
       "      <td>full_stack_php</td>\n",
       "    </tr>\n",
       "    <tr>\n",
       "      <th>2018-01-26</th>\n",
       "      <td>2018-01-26</td>\n",
       "      <td>09:56:02</td>\n",
       "      <td>java-ii</td>\n",
       "      <td>1</td>\n",
       "      <td>8.0</td>\n",
       "      <td>97.105.19.61</td>\n",
       "      <td>8.0</td>\n",
       "      <td>Hampton</td>\n",
       "      <td>#hampton</td>\n",
       "      <td>2015-09-22</td>\n",
       "      <td>2016-02-06</td>\n",
       "      <td>2016-06-14 19:52:26</td>\n",
       "      <td>2016-06-14 19:52:26</td>\n",
       "      <td>NaN</td>\n",
       "      <td>1.0</td>\n",
       "      <td>full_stack_php</td>\n",
       "    </tr>\n",
       "    <tr>\n",
       "      <th>2018-01-26</th>\n",
       "      <td>2018-01-26</td>\n",
       "      <td>09:56:05</td>\n",
       "      <td>java-ii/object-oriented-programming</td>\n",
       "      <td>1</td>\n",
       "      <td>8.0</td>\n",
       "      <td>97.105.19.61</td>\n",
       "      <td>8.0</td>\n",
       "      <td>Hampton</td>\n",
       "      <td>#hampton</td>\n",
       "      <td>2015-09-22</td>\n",
       "      <td>2016-02-06</td>\n",
       "      <td>2016-06-14 19:52:26</td>\n",
       "      <td>2016-06-14 19:52:26</td>\n",
       "      <td>NaN</td>\n",
       "      <td>1.0</td>\n",
       "      <td>full_stack_php</td>\n",
       "    </tr>\n",
       "    <tr>\n",
       "      <th>2018-01-26</th>\n",
       "      <td>2018-01-26</td>\n",
       "      <td>09:56:06</td>\n",
       "      <td>slides/object_oriented_programming</td>\n",
       "      <td>1</td>\n",
       "      <td>8.0</td>\n",
       "      <td>97.105.19.61</td>\n",
       "      <td>8.0</td>\n",
       "      <td>Hampton</td>\n",
       "      <td>#hampton</td>\n",
       "      <td>2015-09-22</td>\n",
       "      <td>2016-02-06</td>\n",
       "      <td>2016-06-14 19:52:26</td>\n",
       "      <td>2016-06-14 19:52:26</td>\n",
       "      <td>NaN</td>\n",
       "      <td>1.0</td>\n",
       "      <td>full_stack_php</td>\n",
       "    </tr>\n",
       "    <tr>\n",
       "      <th>2018-01-26</th>\n",
       "      <td>2018-01-26</td>\n",
       "      <td>10:14:47</td>\n",
       "      <td>/</td>\n",
       "      <td>11</td>\n",
       "      <td>1.0</td>\n",
       "      <td>97.105.19.61</td>\n",
       "      <td>1.0</td>\n",
       "      <td>Arches</td>\n",
       "      <td>#arches</td>\n",
       "      <td>2014-02-04</td>\n",
       "      <td>2014-04-22</td>\n",
       "      <td>2016-06-14 19:52:26</td>\n",
       "      <td>2016-06-14 19:52:26</td>\n",
       "      <td>NaN</td>\n",
       "      <td>1.0</td>\n",
       "      <td>full_stack_php</td>\n",
       "    </tr>\n",
       "    <tr>\n",
       "      <th>...</th>\n",
       "      <td>...</td>\n",
       "      <td>...</td>\n",
       "      <td>...</td>\n",
       "      <td>...</td>\n",
       "      <td>...</td>\n",
       "      <td>...</td>\n",
       "      <td>...</td>\n",
       "      <td>...</td>\n",
       "      <td>...</td>\n",
       "      <td>...</td>\n",
       "      <td>...</td>\n",
       "      <td>...</td>\n",
       "      <td>...</td>\n",
       "      <td>...</td>\n",
       "      <td>...</td>\n",
       "      <td>...</td>\n",
       "    </tr>\n",
       "    <tr>\n",
       "      <th>2021-04-21</th>\n",
       "      <td>2021-04-21</td>\n",
       "      <td>16:41:51</td>\n",
       "      <td>jquery/personal-site</td>\n",
       "      <td>64</td>\n",
       "      <td>28.0</td>\n",
       "      <td>71.150.217.33</td>\n",
       "      <td>28.0</td>\n",
       "      <td>Staff</td>\n",
       "      <td>#</td>\n",
       "      <td>2014-02-04</td>\n",
       "      <td>2014-02-04</td>\n",
       "      <td>2018-12-06 17:04:19</td>\n",
       "      <td>2018-12-06 17:04:19</td>\n",
       "      <td>NaN</td>\n",
       "      <td>2.0</td>\n",
       "      <td>full_stack_java</td>\n",
       "    </tr>\n",
       "    <tr>\n",
       "      <th>2021-04-21</th>\n",
       "      <td>2021-04-21</td>\n",
       "      <td>16:42:02</td>\n",
       "      <td>jquery/mapbox-api</td>\n",
       "      <td>64</td>\n",
       "      <td>28.0</td>\n",
       "      <td>71.150.217.33</td>\n",
       "      <td>28.0</td>\n",
       "      <td>Staff</td>\n",
       "      <td>#</td>\n",
       "      <td>2014-02-04</td>\n",
       "      <td>2014-02-04</td>\n",
       "      <td>2018-12-06 17:04:19</td>\n",
       "      <td>2018-12-06 17:04:19</td>\n",
       "      <td>NaN</td>\n",
       "      <td>2.0</td>\n",
       "      <td>full_stack_java</td>\n",
       "    </tr>\n",
       "    <tr>\n",
       "      <th>2021-04-21</th>\n",
       "      <td>2021-04-21</td>\n",
       "      <td>16:42:09</td>\n",
       "      <td>jquery/ajax/weather-map</td>\n",
       "      <td>64</td>\n",
       "      <td>28.0</td>\n",
       "      <td>71.150.217.33</td>\n",
       "      <td>28.0</td>\n",
       "      <td>Staff</td>\n",
       "      <td>#</td>\n",
       "      <td>2014-02-04</td>\n",
       "      <td>2014-02-04</td>\n",
       "      <td>2018-12-06 17:04:19</td>\n",
       "      <td>2018-12-06 17:04:19</td>\n",
       "      <td>NaN</td>\n",
       "      <td>2.0</td>\n",
       "      <td>full_stack_java</td>\n",
       "    </tr>\n",
       "    <tr>\n",
       "      <th>2021-04-21</th>\n",
       "      <td>2021-04-21</td>\n",
       "      <td>16:44:37</td>\n",
       "      <td>anomaly-detection/discrete-probabilistic-methods</td>\n",
       "      <td>744</td>\n",
       "      <td>28.0</td>\n",
       "      <td>24.160.137.86</td>\n",
       "      <td>28.0</td>\n",
       "      <td>Staff</td>\n",
       "      <td>#</td>\n",
       "      <td>2014-02-04</td>\n",
       "      <td>2014-02-04</td>\n",
       "      <td>2018-12-06 17:04:19</td>\n",
       "      <td>2018-12-06 17:04:19</td>\n",
       "      <td>NaN</td>\n",
       "      <td>2.0</td>\n",
       "      <td>full_stack_java</td>\n",
       "    </tr>\n",
       "    <tr>\n",
       "      <th>2021-04-21</th>\n",
       "      <td>2021-04-21</td>\n",
       "      <td>16:44:39</td>\n",
       "      <td>jquery/mapbox-api</td>\n",
       "      <td>64</td>\n",
       "      <td>28.0</td>\n",
       "      <td>71.150.217.33</td>\n",
       "      <td>28.0</td>\n",
       "      <td>Staff</td>\n",
       "      <td>#</td>\n",
       "      <td>2014-02-04</td>\n",
       "      <td>2014-02-04</td>\n",
       "      <td>2018-12-06 17:04:19</td>\n",
       "      <td>2018-12-06 17:04:19</td>\n",
       "      <td>NaN</td>\n",
       "      <td>2.0</td>\n",
       "      <td>full_stack_java</td>\n",
       "    </tr>\n",
       "  </tbody>\n",
       "</table>\n",
       "<p>199834 rows × 16 columns</p>\n",
       "</div>"
      ],
      "text/plain": [
       "                 date      time  \\\n",
       "date                              \n",
       "2018-01-26 2018-01-26  09:55:03   \n",
       "2018-01-26 2018-01-26  09:56:02   \n",
       "2018-01-26 2018-01-26  09:56:05   \n",
       "2018-01-26 2018-01-26  09:56:06   \n",
       "2018-01-26 2018-01-26  10:14:47   \n",
       "...               ...       ...   \n",
       "2021-04-21 2021-04-21  16:41:51   \n",
       "2021-04-21 2021-04-21  16:42:02   \n",
       "2021-04-21 2021-04-21  16:42:09   \n",
       "2021-04-21 2021-04-21  16:44:37   \n",
       "2021-04-21 2021-04-21  16:44:39   \n",
       "\n",
       "                                                        path  user_id  \\\n",
       "date                                                                    \n",
       "2018-01-26                                                 /        1   \n",
       "2018-01-26                                           java-ii        1   \n",
       "2018-01-26               java-ii/object-oriented-programming        1   \n",
       "2018-01-26                slides/object_oriented_programming        1   \n",
       "2018-01-26                                                 /       11   \n",
       "...                                                      ...      ...   \n",
       "2021-04-21                              jquery/personal-site       64   \n",
       "2021-04-21                                 jquery/mapbox-api       64   \n",
       "2021-04-21                           jquery/ajax/weather-map       64   \n",
       "2021-04-21  anomaly-detection/discrete-probabilistic-methods      744   \n",
       "2021-04-21                                 jquery/mapbox-api       64   \n",
       "\n",
       "            cohort_id             ip    id     name     slack  start_date  \\\n",
       "date                                                                        \n",
       "2018-01-26        8.0   97.105.19.61   8.0  Hampton  #hampton  2015-09-22   \n",
       "2018-01-26        8.0   97.105.19.61   8.0  Hampton  #hampton  2015-09-22   \n",
       "2018-01-26        8.0   97.105.19.61   8.0  Hampton  #hampton  2015-09-22   \n",
       "2018-01-26        8.0   97.105.19.61   8.0  Hampton  #hampton  2015-09-22   \n",
       "2018-01-26        1.0   97.105.19.61   1.0   Arches   #arches  2014-02-04   \n",
       "...               ...            ...   ...      ...       ...         ...   \n",
       "2021-04-21       28.0  71.150.217.33  28.0    Staff         #  2014-02-04   \n",
       "2021-04-21       28.0  71.150.217.33  28.0    Staff         #  2014-02-04   \n",
       "2021-04-21       28.0  71.150.217.33  28.0    Staff         #  2014-02-04   \n",
       "2021-04-21       28.0  24.160.137.86  28.0    Staff         #  2014-02-04   \n",
       "2021-04-21       28.0  71.150.217.33  28.0    Staff         #  2014-02-04   \n",
       "\n",
       "              end_date           created_at           updated_at  deleted_at  \\\n",
       "date                                                                           \n",
       "2018-01-26  2016-02-06  2016-06-14 19:52:26  2016-06-14 19:52:26         NaN   \n",
       "2018-01-26  2016-02-06  2016-06-14 19:52:26  2016-06-14 19:52:26         NaN   \n",
       "2018-01-26  2016-02-06  2016-06-14 19:52:26  2016-06-14 19:52:26         NaN   \n",
       "2018-01-26  2016-02-06  2016-06-14 19:52:26  2016-06-14 19:52:26         NaN   \n",
       "2018-01-26  2014-04-22  2016-06-14 19:52:26  2016-06-14 19:52:26         NaN   \n",
       "...                ...                  ...                  ...         ...   \n",
       "2021-04-21  2014-02-04  2018-12-06 17:04:19  2018-12-06 17:04:19         NaN   \n",
       "2021-04-21  2014-02-04  2018-12-06 17:04:19  2018-12-06 17:04:19         NaN   \n",
       "2021-04-21  2014-02-04  2018-12-06 17:04:19  2018-12-06 17:04:19         NaN   \n",
       "2021-04-21  2014-02-04  2018-12-06 17:04:19  2018-12-06 17:04:19         NaN   \n",
       "2021-04-21  2014-02-04  2018-12-06 17:04:19  2018-12-06 17:04:19         NaN   \n",
       "\n",
       "            program_id     program_name  \n",
       "date                                     \n",
       "2018-01-26         1.0   full_stack_php  \n",
       "2018-01-26         1.0   full_stack_php  \n",
       "2018-01-26         1.0   full_stack_php  \n",
       "2018-01-26         1.0   full_stack_php  \n",
       "2018-01-26         1.0   full_stack_php  \n",
       "...                ...              ...  \n",
       "2021-04-21         2.0  full_stack_java  \n",
       "2021-04-21         2.0  full_stack_java  \n",
       "2021-04-21         2.0  full_stack_java  \n",
       "2021-04-21         2.0  full_stack_java  \n",
       "2021-04-21         2.0  full_stack_java  \n",
       "\n",
       "[199834 rows x 16 columns]"
      ]
     },
     "execution_count": 31,
     "metadata": {},
     "output_type": "execute_result"
    }
   ],
   "source": [
    "# create data frame of graduates looking at curriculum\n",
    "peeking_after = df[df.end_date<df.index]\n",
    "peeking_after"
   ]
  },
  {
   "cell_type": "code",
   "execution_count": 32,
   "id": "d4e6deb1",
   "metadata": {},
   "outputs": [],
   "source": [
    "peeking_after_php = peeking_after[peeking_after.program_name == 'full_stack_php']\n",
    "peeking_after_java = peeking_after[peeking_after.program_name == 'full_stack_java']\n",
    "peeking_after_datascience = peeking_after[peeking_after.program_name == 'data_science']\n",
    "peeking_after_front_end = peeking_after[peeking_after.program_name == 'front_end']"
   ]
  },
  {
   "cell_type": "code",
   "execution_count": 33,
   "id": "6960269a",
   "metadata": {},
   "outputs": [
    {
     "data": {
      "text/plain": [
       "/                1681\n",
       "index.html       1011\n",
       "javascript-i      736\n",
       "html-css          542\n",
       "spring            501\n",
       "java-iii          479\n",
       "java-ii           454\n",
       "java-i            444\n",
       "javascript-ii     429\n",
       "appendix          409\n",
       "Name: path, dtype: int64"
      ]
     },
     "execution_count": 33,
     "metadata": {},
     "output_type": "execute_result"
    }
   ],
   "source": [
    "peeking_after_php.path.value_counts().nlargest(10)"
   ]
  },
  {
   "cell_type": "code",
   "execution_count": 34,
   "id": "62290441",
   "metadata": {},
   "outputs": [
    {
     "data": {
      "text/plain": [
       "/                           12406\n",
       "javascript-i                 4229\n",
       "spring                       3760\n",
       "search/search_index.json     3562\n",
       "html-css                     3136\n",
       "java-iii                     3058\n",
       "java-ii                      2985\n",
       "java-i                       2679\n",
       "appendix                     2662\n",
       "javascript-ii                2549\n",
       "Name: path, dtype: int64"
      ]
     },
     "execution_count": 34,
     "metadata": {},
     "output_type": "execute_result"
    }
   ],
   "source": [
    "peeking_after_java.path.value_counts().nlargest(10)"
   ]
  },
  {
   "cell_type": "code",
   "execution_count": 35,
   "id": "f118cc62",
   "metadata": {},
   "outputs": [
    {
     "data": {
      "text/plain": [
       "/                                                 1436\n",
       "search/search_index.json                           493\n",
       "sql/mysql-overview                                 275\n",
       "classification/overview                            266\n",
       "classification/scale_features_or_not.svg           219\n",
       "anomaly-detection/AnomalyDetectionCartoon.jpeg     193\n",
       "anomaly-detection/overview                         191\n",
       "fundamentals/AI-ML-DL-timeline.jpg                 189\n",
       "fundamentals/modern-data-scientist.jpg             187\n",
       "fundamentals/intro-to-data-science                 184\n",
       "Name: path, dtype: int64"
      ]
     },
     "execution_count": 35,
     "metadata": {},
     "output_type": "execute_result"
    }
   ],
   "source": [
    "peeking_after_datascience.path.value_counts().nlargest(10)"
   ]
  },
  {
   "cell_type": "code",
   "execution_count": 36,
   "id": "d15010e8",
   "metadata": {},
   "outputs": [
    {
     "data": {
      "text/plain": [
       "content/html-css                               2\n",
       "/                                              1\n",
       "content/html-css/gitbook/images/favicon.ico    1\n",
       "content/html-css/introduction.html             1\n",
       "Name: path, dtype: int64"
      ]
     },
     "execution_count": 36,
     "metadata": {},
     "output_type": "execute_result"
    }
   ],
   "source": [
    "peeking_after_front_end.path.value_counts().nlargest(10)"
   ]
  },
  {
   "cell_type": "markdown",
   "id": "813c7520",
   "metadata": {},
   "source": [
    "Take Away:\n",
    "-Full stack_php graduates seem to be visiting java topics and html-css more than any other topics with javascript at the top of the search.\n",
    "-Full-stack java graduated students have a similar pattern to full stack php graduated students. Most visit topics are in java and html-css ; with javascript-i being the most reference after graduation.\n",
    "-The most visited topics by data science students seem to be sql, classification and anomaly detection. With classification being one of the top topics.\n",
    " "
   ]
  },
  {
   "cell_type": "markdown",
   "id": "6445d2d8",
   "metadata": {},
   "source": [
    "## Which lessons are least accessed?"
   ]
  },
  {
   "cell_type": "code",
   "execution_count": 37,
   "id": "22c7c02b",
   "metadata": {},
   "outputs": [
    {
     "data": {
      "text/plain": [
       "data-science-modules.jpg                        1\n",
       "regression/feature_engineering_into_modeling    1\n",
       "diagram-of-ds-pipeline-fraud-example.jpeg       1\n",
       "ml-methodologies-drawing.jpg                    1\n",
       "classification/explore-old                      1\n",
       "where                                           1\n",
       "sql                                             1\n",
       "case-statements                                 1\n",
       "nlp                                             1\n",
       "json-responses                                  1\n",
       "Name: path, dtype: int64"
      ]
     },
     "execution_count": 37,
     "metadata": {},
     "output_type": "execute_result"
    }
   ],
   "source": [
    "# all data science cohorts into dataframe \n",
    "ds_cohorts = df.loc[df[\"program_name\"] == \"data_science\"]\n",
    "# aggregate data science page counts \n",
    "ds_cohorts.path.value_counts().nsmallest(10)"
   ]
  },
  {
   "cell_type": "code",
   "execution_count": 38,
   "id": "745f99e4",
   "metadata": {},
   "outputs": [
    {
     "data": {
      "text/plain": [
       "/                                              1\n",
       "content/html-css/gitbook/images/favicon.ico    1\n",
       "content/html-css/introduction.html             1\n",
       "content/html-css                               2\n",
       "Name: path, dtype: int64"
      ]
     },
     "execution_count": 38,
     "metadata": {},
     "output_type": "execute_result"
    }
   ],
   "source": [
    "# all Front End Cohorts into dataframe \n",
    "front_end_cohorts = df.loc[df[\"program_name\"] == \"front_end\"]\n",
    "# aggregate data science page counts \n",
    "front_end_cohorts.path.value_counts().nsmallest(10)"
   ]
  },
  {
   "cell_type": "code",
   "execution_count": 39,
   "id": "0e991d7e",
   "metadata": {},
   "outputs": [
    {
     "data": {
      "text/plain": [
       "content/jquery/simple-simon/gitbook/images/favicon.ico                   1\n",
       "4-stats/2.4-power-analysis                                               1\n",
       "bom-and-dom/dom-events                                                   1\n",
       "timeseries                                                               1\n",
       "4-stats/2.2-probability_distributions/Selecting_a_hypothesis_test.svg    1\n",
       "javascri                                                                 1\n",
       "students/743/notes                                                       1\n",
       "4-stats/2.3-sampling                                                     1\n",
       "appendix/further-reading/mysql                                           1\n",
       "2-stats/2.4-more-excel-features                                          1\n",
       "Name: path, dtype: int64"
      ]
     },
     "execution_count": 39,
     "metadata": {},
     "output_type": "execute_result"
    }
   ],
   "source": [
    "# all Full Stack Java Cohorts into dataframe \n",
    "full_stack_java_cohorts = df.loc[df[\"program_name\"] == \"full_stack_java\"]\n",
    "# aggregate data science page counts \n",
    "full_stack_java_cohorts.path.value_counts().nsmallest(10)"
   ]
  },
  {
   "cell_type": "code",
   "execution_count": 40,
   "id": "fdbf377b",
   "metadata": {},
   "outputs": [
    {
     "data": {
      "text/plain": [
       "slides/threads                              1\n",
       "2-storytelling/project                      1\n",
       "appendix/data-viz-references                1\n",
       "4-python/6-imports                          1\n",
       "4-python/project                            1\n",
       "content/mysql/relationships/indexes.html    1\n",
       "css                                         1\n",
       "4-python/3-data-types-and-variables         1\n",
       "appendix/postwork/trains                    1\n",
       "4-python/5-functions                        1\n",
       "Name: path, dtype: int64"
      ]
     },
     "execution_count": 40,
     "metadata": {},
     "output_type": "execute_result"
    }
   ],
   "source": [
    "# all Full Stack PHP Cohorts into dataframe \n",
    "full_stack_php_cohorts = df.loc[df[\"program_name\"] == \"full_stack_php\"]\n",
    "# aggregate data science page counts \n",
    "full_stack_php_cohorts.path.value_counts().nsmallest(10)"
   ]
  },
  {
   "cell_type": "markdown",
   "id": "c48f0084",
   "metadata": {},
   "source": [
    "### Takeaways \n",
    "**Least accessed lessons**\n",
    "- For Full Stack program - java scri\n",
    "- Full Stack PHP Program - css\n",
    "- Data Science Program - case statements\n",
    "- Front End Program - content/html-css/gitbook/images/favicon.ico"
   ]
  },
  {
   "cell_type": "code",
   "execution_count": null,
   "id": "dd29bbdf",
   "metadata": {},
   "outputs": [],
   "source": []
  }
 ],
 "metadata": {
  "kernelspec": {
   "display_name": "Python 3 (ipykernel)",
   "language": "python",
   "name": "python3"
  },
  "language_info": {
   "codemirror_mode": {
    "name": "ipython",
    "version": 3
   },
   "file_extension": ".py",
   "mimetype": "text/x-python",
   "name": "python",
   "nbconvert_exporter": "python",
   "pygments_lexer": "ipython3",
   "version": "3.9.12"
  }
 },
 "nbformat": 4,
 "nbformat_minor": 5
}
