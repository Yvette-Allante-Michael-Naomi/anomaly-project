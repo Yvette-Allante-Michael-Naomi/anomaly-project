{
 "cells": [
  {
   "cell_type": "code",
   "execution_count": 1,
   "id": "da7220e0",
   "metadata": {},
   "outputs": [],
   "source": [
    "import warnings\n",
    "warnings.filterwarnings(\"ignore\")\n",
    "import matplotlib.pyplot as plt\n",
    "\n",
    "import numpy as np\n",
    "import pandas as pd\n",
    "import seaborn as sns\n",
    "import env"
   ]
  },
  {
   "cell_type": "markdown",
   "id": "b55eb2e4",
   "metadata": {},
   "source": [
    "# Questions we answered:\n",
    "\n",
    "- Which lesson appears to attract the most traffic consistently across cohorts (per program)?\n",
    "\n",
    "\n",
    "- Is there a cohort that referred to a lesson significantly more than other cohorts seemed to gloss over?\n",
    "\n",
    "\n",
    "- At some point in 2019, the ability for students and alumni to access both curriculums (web dev to ds, ds to web dev) should have been shut off. Do you see any evidence of that happening? Did it happen before?\n",
    "\n",
    "\n",
    "- What topics are grads continuing to reference after graduation and into their jobs (for each program)?\n",
    "\n",
    "\n",
    "- Which lessons are least accessed?\n"
   ]
  },
  {
   "cell_type": "markdown",
   "id": "7a98c7a4",
   "metadata": {},
   "source": [
    "# Acquire\n",
    "\n",
    "- Data was acquired from CodeUp database using mySQL"
   ]
  },
  {
   "cell_type": "markdown",
   "id": "ad633597",
   "metadata": {},
   "source": [
    "## Which lesson appears to attract the most traffic consistently across cohorts (per program)?\n"
   ]
  },
  {
   "cell_type": "code",
   "execution_count": null,
   "id": "246ea807",
   "metadata": {},
   "outputs": [],
   "source": [
    "# all data science cohorts into dataframe \n",
    "ds_cohorts = df.loc[df[\"program_name\"] == \"data_science\"]\n",
    "# aggregate data science page counts \n",
    "ds_cohorts.path.value_counts().nlargest(10)"
   ]
  },
  {
   "cell_type": "code",
   "execution_count": null,
   "id": "39c78b2d",
   "metadata": {},
   "outputs": [],
   "source": [
    "# all Front End Cohorts into dataframe \n",
    "front_end_cohorts = df.loc[df[\"program_name\"] == \"front_end\"]\n",
    "# aggregate data science page counts \n",
    "front_end_cohorts.path.value_counts().nlargest(10)"
   ]
  },
  {
   "cell_type": "code",
   "execution_count": null,
   "id": "4bd1961d",
   "metadata": {},
   "outputs": [],
   "source": [
    "# all Full Stack Java Cohorts into dataframe \n",
    "full_stack_java_cohorts = df.loc[df[\"program_name\"] == \"full_stack_java\"]\n",
    "# aggregate data science page counts \n",
    "full_stack_java_cohorts.path.value_counts().nlargest(10)"
   ]
  },
  {
   "cell_type": "code",
   "execution_count": null,
   "id": "b7f3f03c",
   "metadata": {},
   "outputs": [],
   "source": [
    "# all Full Stack PHP Cohorts into dataframe \n",
    "full_stack_php_cohorts = df.loc[df[\"program_name\"] == \"full_stack_php\"]\n",
    "# aggregate data science page counts \n",
    "full_stack_php_cohorts.path.value_counts().nlargest(10)"
   ]
  },
  {
   "cell_type": "markdown",
   "id": "9279a2e9",
   "metadata": {},
   "source": [
    "### Takeaways \n",
    "\n",
    "**Most accessed lessons**\n",
    "\n",
    "- Data Science program is classification/overview\n",
    "- Front End program is content/html-css  \n",
    "- Full Stack Java program is javascript-i\n",
    "- Full Stack PHP program is index.html "
   ]
  },
  {
   "cell_type": "markdown",
   "id": "d13a1f9f",
   "metadata": {},
   "source": [
    "## Is there a cohort that referred to a lesson significantly more than other cohorts seemed to gloss over?"
   ]
  },
  {
   "cell_type": "code",
   "execution_count": null,
   "id": "a6222df6",
   "metadata": {},
   "outputs": [],
   "source": [
    "# initializing df for exploring the cohorts' paths accessed\n",
    "name_path = df[['name','path', 'program_name']]"
   ]
  },
  {
   "cell_type": "markdown",
   "id": "ae0a7392",
   "metadata": {},
   "source": [
    "### Web Dev most accessed:"
   ]
  },
  {
   "cell_type": "code",
   "execution_count": null,
   "id": "ba6aabb7",
   "metadata": {},
   "outputs": [],
   "source": [
    "# initializing df for full_stack_java program cohorts and paths\n",
    "full_stack_java_df = name_path[name_path.program_name == 'full_stack_java']"
   ]
  },
  {
   "cell_type": "code",
   "execution_count": null,
   "id": "b9e67603",
   "metadata": {},
   "outputs": [],
   "source": [
    "# get 10 most accessed paths\n",
    "e.get_cohort_top10_paths('Ceres', full_stack_java_df)"
   ]
  },
  {
   "cell_type": "code",
   "execution_count": null,
   "id": "f703db77",
   "metadata": {},
   "outputs": [],
   "source": [
    "e.get_cohort_top10_paths('Jupiter', full_stack_java_df)"
   ]
  },
  {
   "cell_type": "code",
   "execution_count": null,
   "id": "f20597da",
   "metadata": {},
   "outputs": [],
   "source": [
    "e.get_cohort_top10_paths('Zion', full_stack_java_df)"
   ]
  },
  {
   "cell_type": "code",
   "execution_count": null,
   "id": "607c5342",
   "metadata": {},
   "outputs": [],
   "source": [
    "e.get_cohort_top10_paths('Fortuna', full_stack_java_df)"
   ]
  },
  {
   "cell_type": "code",
   "execution_count": null,
   "id": "50f0f474",
   "metadata": {},
   "outputs": [],
   "source": [
    "e.get_cohort_top10_paths('Voyageurs', full_stack_java_df)"
   ]
  },
  {
   "cell_type": "markdown",
   "id": "31d035e0",
   "metadata": {},
   "source": [
    "### For Web Dev cohorts with the top 5 most log observations (Ceres, Zion, Jupiter, Fortuna, Voyageurs):\n",
    "\n",
    "\n",
    "- Fortuna accessed the java-iii lesson more frequently than the other 4 cohorts investigated.\n",
    "\n",
    "\n",
    "- Ceres and Jupiter accessed html-css more often than Jupiter, Fortuna, and Voyageur\n"
   ]
  },
  {
   "cell_type": "markdown",
   "id": "fe16a476",
   "metadata": {},
   "source": [
    "### Data Science most accessed:"
   ]
  },
  {
   "cell_type": "code",
   "execution_count": null,
   "id": "aceb7cb6",
   "metadata": {},
   "outputs": [],
   "source": [
    "#initializing df for data_science program cohorts and paths\n",
    "data_science = name_path[name_path.program_name == 'data_science']"
   ]
  },
  {
   "cell_type": "code",
   "execution_count": null,
   "id": "e47640ad",
   "metadata": {},
   "outputs": [],
   "source": [
    "# get 10 most accessed paths\n",
    "e.get_cohort_top10_paths('Darden', data_science)"
   ]
  },
  {
   "cell_type": "code",
   "execution_count": null,
   "id": "31b7f7d6",
   "metadata": {},
   "outputs": [],
   "source": [
    "e.get_cohort_top10_paths('Bayes', data_science)"
   ]
  },
  {
   "cell_type": "code",
   "execution_count": null,
   "id": "859aac87",
   "metadata": {},
   "outputs": [],
   "source": [
    "e.get_cohort_top10_paths('Curie', data_science)"
   ]
  },
  {
   "cell_type": "code",
   "execution_count": null,
   "id": "67ee792a",
   "metadata": {},
   "outputs": [],
   "source": [
    "e.get_cohort_top10_paths('Easley', data_science)"
   ]
  },
  {
   "cell_type": "code",
   "execution_count": null,
   "id": "7ea816dc",
   "metadata": {},
   "outputs": [],
   "source": [
    "e.get_cohort_top10_paths('Florence', data_science)"
   ]
  },
  {
   "cell_type": "markdown",
   "id": "fa55d33a",
   "metadata": {},
   "source": [
    "### For the 5 Data Science cohorts with log observations ( Darden, Bayes, Curie, Easley, Florence):\n",
    "\n",
    "- Darden viewed the classification/overview lesson the most out of all 5 cohorts by a significant margin. Dardin had 1109 instances of this lesson, which 664 more instances than the next highest cohort, Easley.\n"
   ]
  },
  {
   "cell_type": "markdown",
   "id": "24a31fc0",
   "metadata": {},
   "source": [
    "## At some point in 2019, the ability for students and alumni to access both curriculums (web dev to ds, ds to web dev) should have been shut off. Do you see any evidence of that happening? Did it happen before?"
   ]
  },
  {
   "cell_type": "markdown",
   "id": "6e4395d7",
   "metadata": {},
   "source": [
    "#### Students Acess After 2019"
   ]
  },
  {
   "cell_type": "code",
   "execution_count": null,
   "id": "135e62a7",
   "metadata": {},
   "outputs": [],
   "source": [
    "# create data frame for 2019 \n",
    "students_2019n_after = df['2019':]"
   ]
  },
  {
   "cell_type": "code",
   "execution_count": null,
   "id": "16e397f9",
   "metadata": {},
   "outputs": [],
   "source": [
    "# Seperate web develpment students from Data Science students\n",
    "web_after2019, data_after2019 = seperate_students_webdev_vs_datasci(students_2019n_after)"
   ]
  },
  {
   "cell_type": "code",
   "execution_count": null,
   "id": "e5edd694",
   "metadata": {},
   "outputs": [],
   "source": [
    "get_double_acess(data_after2019,['java','html','css','spring'])"
   ]
  },
  {
   "cell_type": "code",
   "execution_count": null,
   "id": "59b44105",
   "metadata": {},
   "outputs": [],
   "source": [
    "get_double_acess(webde_after2019,['classification','stats','excel'])"
   ]
  },
  {
   "cell_type": "markdown",
   "id": "2292e0e1",
   "metadata": {},
   "source": [
    "#### Students Acess Before 2019"
   ]
  },
  {
   "cell_type": "code",
   "execution_count": null,
   "id": "e0d35fc2",
   "metadata": {},
   "outputs": [],
   "source": [
    "# create data frame for 2019 \n",
    "students_2019n_before = df['2019':]"
   ]
  },
  {
   "cell_type": "code",
   "execution_count": null,
   "id": "751182f8",
   "metadata": {},
   "outputs": [],
   "source": [
    "# Seperate web develpment students from Data Science students\n",
    "web_before2019, data_before2019 = seperate_students_webdev_vs_datasci(students_2019n_after)"
   ]
  },
  {
   "cell_type": "code",
   "execution_count": null,
   "id": "aa834f7d",
   "metadata": {},
   "outputs": [],
   "source": [
    "get_double_acess(data_before2019,['java','html','css','spring'])"
   ]
  },
  {
   "cell_type": "code",
   "execution_count": null,
   "id": "a1627317",
   "metadata": {},
   "outputs": [],
   "source": [
    "get_double_acess(webdev_before2019,['classification','stats','excel'])"
   ]
  },
  {
   "cell_type": "markdown",
   "id": "159b099c",
   "metadata": {},
   "source": [
    "### TakeAway:\n",
    "It seems access was not completely shut off for students in the Webdev classes after or before 2019. \n",
    "There are  instances of web development students accessing data science curriculum even after graduation. \n",
    "For the Data Science classes access to web development content was shut down after 2019."
   ]
  },
  {
   "cell_type": "markdown",
   "id": "27291924",
   "metadata": {},
   "source": [
    "## What topics are grads continuing to reference after graduation and into their jobs (for each program)?"
   ]
  },
  {
   "cell_type": "code",
   "execution_count": null,
   "id": "0e2c14ec",
   "metadata": {},
   "outputs": [],
   "source": [
    "peeking_after = df[df.end_date<students.index]\n",
    "peeking_after"
   ]
  },
  {
   "cell_type": "code",
   "execution_count": null,
   "id": "d4e6deb1",
   "metadata": {},
   "outputs": [],
   "source": [
    "peeking_after_php = peeking_after[peeking_after.program_name == 'full_stack_php']\n",
    "peeking_after_java = peeking_after[peeking_after.program_name == 'full_stack_java']\n",
    "peeking_after_datascience = peeking_after[peeking_after.program_name == 'data_science']\n",
    "peeking_after_front_end = peeking_after[peeking_after.program_name == 'front_end']"
   ]
  },
  {
   "cell_type": "code",
   "execution_count": null,
   "id": "6960269a",
   "metadata": {},
   "outputs": [],
   "source": [
    "peeking_after_php.path.value_counts().nlargest(10)"
   ]
  },
  {
   "cell_type": "code",
   "execution_count": null,
   "id": "62290441",
   "metadata": {},
   "outputs": [],
   "source": [
    "peeking_after_java.path.value_counts().nlargest(10)"
   ]
  },
  {
   "cell_type": "code",
   "execution_count": null,
   "id": "f118cc62",
   "metadata": {},
   "outputs": [],
   "source": [
    "peeking_after_datascience.path.value_counts().nlargest(10)"
   ]
  },
  {
   "cell_type": "code",
   "execution_count": null,
   "id": "d15010e8",
   "metadata": {},
   "outputs": [],
   "source": [
    "peeking_after_front_end.path.value_counts().nlargest(10)"
   ]
  },
  {
   "cell_type": "markdown",
   "id": "813c7520",
   "metadata": {},
   "source": [
    "Take Away:\n",
    "-Full stack_php graduates seem to be visiting java topics and html-css more than any other topics with javascript at the top of the search.\n",
    "-Full-stack java graduated students have a similar pattern to full stack php graduated students. Most visit topics are in java and html-css ; with javascript-i being the most reference after graduation.\n",
    "-The most visited topics by data science students seem to be sql, classification and anomaly detection. With classification being one of the top topics.\n",
    " "
   ]
  },
  {
   "cell_type": "markdown",
   "id": "6445d2d8",
   "metadata": {},
   "source": [
    "## Which lessons are least accessed?"
   ]
  },
  {
   "cell_type": "code",
   "execution_count": null,
   "id": "22c7c02b",
   "metadata": {},
   "outputs": [],
   "source": [
    "# all data science cohorts into dataframe \n",
    "ds_cohorts = df.loc[df[\"program_name\"] == \"data_science\"]\n",
    "# aggregate data science page counts \n",
    "ds_cohorts.path.value_counts().nsmallest(10)"
   ]
  },
  {
   "cell_type": "code",
   "execution_count": null,
   "id": "745f99e4",
   "metadata": {},
   "outputs": [],
   "source": [
    "# all Front End Cohorts into dataframe \n",
    "front_end_cohorts = df.loc[df[\"program_name\"] == \"front_end\"]\n",
    "# aggregate data science page counts \n",
    "front_end_cohorts.path.value_counts().nsmallest(10)"
   ]
  },
  {
   "cell_type": "code",
   "execution_count": null,
   "id": "0e991d7e",
   "metadata": {},
   "outputs": [],
   "source": [
    "# all Full Stack Java Cohorts into dataframe \n",
    "full_stack_java_cohorts = df.loc[df[\"program_name\"] == \"full_stack_java\"]\n",
    "# aggregate data science page counts \n",
    "full_stack_java_cohorts.path.value_counts().nsmallest(10)"
   ]
  },
  {
   "cell_type": "code",
   "execution_count": null,
   "id": "fdbf377b",
   "metadata": {},
   "outputs": [],
   "source": [
    "# all Full Stack PHP Cohorts into dataframe \n",
    "full_stack_php_cohorts = df.loc[df[\"program_name\"] == \"full_stack_php\"]\n",
    "# aggregate data science page counts \n",
    "full_stack_php_cohorts.path.value_counts().nsmallest(10)"
   ]
  },
  {
   "cell_type": "markdown",
   "id": "c48f0084",
   "metadata": {},
   "source": [
    "### Takeaways \n",
    "**Least accessed lessons**\n",
    "- For Full Stack program - java scri\n",
    "- Full Stack PHP Program - css\n",
    "- Data Science Program - case statements\n",
    "- Front End Program - content/html-css/gitbook/images/favicon.ico"
   ]
  },
  {
   "cell_type": "code",
   "execution_count": null,
   "id": "dd29bbdf",
   "metadata": {},
   "outputs": [],
   "source": []
  }
 ],
 "metadata": {
  "kernelspec": {
   "display_name": "Python 3 (ipykernel)",
   "language": "python",
   "name": "python3"
  },
  "language_info": {
   "codemirror_mode": {
    "name": "ipython",
    "version": 3
   },
   "file_extension": ".py",
   "mimetype": "text/x-python",
   "name": "python",
   "nbconvert_exporter": "python",
   "pygments_lexer": "ipython3",
   "version": "3.9.12"
  }
 },
 "nbformat": 4,
 "nbformat_minor": 5
}
