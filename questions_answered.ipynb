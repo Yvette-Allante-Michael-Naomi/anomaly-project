{
 "cells": [
  {
   "cell_type": "raw",
   "id": "1882a77e",
   "metadata": {},
   "source": [
    "# Time Series Anomaly Detection"
   ]
  },
  {
   "cell_type": "code",
   "execution_count": 1,
   "id": "164e4f4f",
   "metadata": {},
   "outputs": [],
   "source": [
    "import warnings\n",
    "warnings.filterwarnings(\"ignore\")\n",
    "import matplotlib.pyplot as plt\n",
    "from statistics import stdev\n",
    "import numpy as np\n",
    "import pandas as pd\n",
    "import seaborn as sns"
   ]
  },
  {
   "cell_type": "markdown",
   "id": "a040d296",
   "metadata": {},
   "source": [
    "### Acquire"
   ]
  },
  {
   "cell_type": "code",
   "execution_count": 2,
   "id": "b5cdff63",
   "metadata": {
    "scrolled": true
   },
   "outputs": [],
   "source": [
    "# acquire data\n",
    "df = pd.read_csv('curriculum_logs_csv')\n"
   ]
  },
  {
   "cell_type": "raw",
   "id": "66cc00fd",
   "metadata": {},
   "source": [
    "1. Which lesson appears to attract the most traffic consistently across cohorts (per program)?"
   ]
  },
  {
   "cell_type": "code",
   "execution_count": 28,
   "id": "a71daff7",
   "metadata": {},
   "outputs": [
    {
     "data": {
      "text/plain": [
       "/                                           8358\n",
       "search/search_index.json                    2203\n",
       "classification/overview                     1785\n",
       "1-fundamentals/modern-data-scientist.jpg    1655\n",
       "1-fundamentals/AI-ML-DL-timeline.jpg        1651\n",
       "1-fundamentals/1.1-intro-to-data-science    1633\n",
       "classification/scale_features_or_not.svg    1590\n",
       "fundamentals/AI-ML-DL-timeline.jpg          1443\n",
       "fundamentals/modern-data-scientist.jpg      1438\n",
       "sql/mysql-overview                          1424\n",
       "Name: path, dtype: int64"
      ]
     },
     "execution_count": 28,
     "metadata": {},
     "output_type": "execute_result"
    }
   ],
   "source": [
    "# answer but not viewable \n",
    "# all data science cohorts into dataframe \n",
    "ds_cohorts = df.loc[df[\"program_name\"] == \"data_science\"]\n",
    "# aggregate data science page counts \n",
    "ds_cohorts.path.value_counts().nlargest(10)"
   ]
  },
  {
   "cell_type": "code",
   "execution_count": 29,
   "id": "a79d8f13",
   "metadata": {},
   "outputs": [
    {
     "data": {
      "text/plain": [
       "content/html-css                               2\n",
       "/                                              1\n",
       "content/html-css/gitbook/images/favicon.ico    1\n",
       "content/html-css/introduction.html             1\n",
       "Name: path, dtype: int64"
      ]
     },
     "execution_count": 29,
     "metadata": {},
     "output_type": "execute_result"
    }
   ],
   "source": [
    "# most popular lesson for Front End \n",
    "front_end_cohorts = df.loc[df[\"program_name\"] == \"front_end\"]\n",
    "# aggregate data science page counts \n",
    "front_end_cohorts.path.value_counts().nlargest(10)"
   ]
  },
  {
   "cell_type": "code",
   "execution_count": 30,
   "id": "89cf311d",
   "metadata": {},
   "outputs": [
    {
     "data": {
      "text/plain": [
       "/                           35814\n",
       "javascript-i                17457\n",
       "toc                         17428\n",
       "search/search_index.json    15212\n",
       "java-iii                    12683\n",
       "html-css                    12569\n",
       "java-ii                     11719\n",
       "spring                      11376\n",
       "jquery                      10693\n",
       "mysql                       10318\n",
       "Name: path, dtype: int64"
      ]
     },
     "execution_count": 30,
     "metadata": {},
     "output_type": "execute_result"
    }
   ],
   "source": [
    "# most popular lesson for Front End \n",
    "full_stack_java_cohorts = df.loc[df[\"program_name\"] == \"full_stack_java\"]\n",
    "# aggregate data science page counts \n",
    "full_stack_java_cohorts.path.value_counts().nlargest(10)"
   ]
  },
  {
   "cell_type": "code",
   "execution_count": 31,
   "id": "92689e1e",
   "metadata": {},
   "outputs": [
    {
     "data": {
      "text/plain": [
       "/                1681\n",
       "index.html       1011\n",
       "javascript-i      736\n",
       "html-css          542\n",
       "spring            501\n",
       "java-iii          479\n",
       "java-ii           454\n",
       "java-i            444\n",
       "javascript-ii     429\n",
       "appendix          409\n",
       "Name: path, dtype: int64"
      ]
     },
     "execution_count": 31,
     "metadata": {},
     "output_type": "execute_result"
    }
   ],
   "source": [
    "# most popular lesson for Front End \n",
    "full_stack_php_cohorts = df.loc[df[\"program_name\"] == \"full_stack_php\"]\n",
    "# aggregate data science page counts \n",
    "full_stack_php_cohorts.path.value_counts().nlargest(10)"
   ]
  },
  {
   "cell_type": "markdown",
   "id": "16f2b854",
   "metadata": {},
   "source": [
    "### Takeaways \n",
    "\n",
    "**Most accessed lessons**\n",
    "\n",
    "- Data Science program is classification/overview\n",
    "- Front End program is content/html-css  \n",
    "- Full Stack Java program is javascript-i\n",
    "- Full Stack PHP program is index.html "
   ]
  },
  {
   "cell_type": "raw",
   "id": "5c66cf1e",
   "metadata": {},
   "source": [
    "7. Which lessons are least accessed? (path hits below mean) "
   ]
  },
  {
   "cell_type": "code",
   "execution_count": null,
   "id": "ad81b965",
   "metadata": {
    "scrolled": true
   },
   "outputs": [],
   "source": [
    "df.path.value_counts().nsmallest(20)"
   ]
  },
  {
   "cell_type": "code",
   "execution_count": null,
   "id": "d46eb390",
   "metadata": {},
   "outputs": [],
   "source": [
    "# all data science cohorts into dataframe \n",
    "ds_cohorts = df.loc[df[\"program_name\"] == \"data_science\"]\n",
    "# aggregate data science page counts \n",
    "ds_cohorts.path.value_counts().nsmallest(10)"
   ]
  },
  {
   "cell_type": "code",
   "execution_count": null,
   "id": "46ecb97b",
   "metadata": {},
   "outputs": [],
   "source": [
    "# most popular lesson for Front End \n",
    "front_end_cohorts = df.loc[df[\"program_name\"] == \"front_end\"]\n",
    "# aggregate data science page counts \n",
    "front_end_cohorts.path.value_counts().nsmallest(10)"
   ]
  },
  {
   "cell_type": "code",
   "execution_count": null,
   "id": "e5c3c6c9",
   "metadata": {
    "scrolled": true
   },
   "outputs": [],
   "source": [
    "# most popular lesson for Front End \n",
    "full_stack_java_cohorts = df.loc[df[\"program_name\"] == \"full_stack_java\"]\n",
    "# aggregate data science page counts \n",
    "full_stack_java_cohorts.path.value_counts().nsmallest(10)"
   ]
  },
  {
   "cell_type": "code",
   "execution_count": null,
   "id": "2b8b07f1",
   "metadata": {},
   "outputs": [],
   "source": [
    "# most popular lesson for Front End \n",
    "full_stack_php_cohorts = df.loc[df[\"program_name\"] == \"full_stack_php\"]\n",
    "# aggregate data science page counts \n",
    "full_stack_php_cohorts.path.value_counts().nsmallest(10)"
   ]
  },
  {
   "cell_type": "markdown",
   "id": "a86ce1cd",
   "metadata": {},
   "source": [
    "### Takeaways \n",
    "**Least accessed lessons**\n",
    "- java scri (full stack java program)\n",
    "- css (full stack php program)\n",
    "- case statements (data science program)\n",
    "- content/html-css/gitbook/images/favicon.ico (front end program)"
   ]
  },
  {
   "cell_type": "code",
   "execution_count": null,
   "id": "fbe8d70a",
   "metadata": {},
   "outputs": [],
   "source": []
  }
 ],
 "metadata": {
  "kernelspec": {
   "display_name": "Python 3 (ipykernel)",
   "language": "python",
   "name": "python3"
  },
  "language_info": {
   "codemirror_mode": {
    "name": "ipython",
    "version": 3
   },
   "file_extension": ".py",
   "mimetype": "text/x-python",
   "name": "python",
   "nbconvert_exporter": "python",
   "pygments_lexer": "ipython3",
   "version": "3.9.12"
  }
 },
 "nbformat": 4,
 "nbformat_minor": 5
}
