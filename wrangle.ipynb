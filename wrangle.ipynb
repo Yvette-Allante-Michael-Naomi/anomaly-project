{
 "cells": [
  {
   "cell_type": "code",
   "execution_count": 1,
   "id": "8ba6ea06",
   "metadata": {},
   "outputs": [],
   "source": [
    "import warnings\n",
    "warnings.filterwarnings(\"ignore\")\n",
    "import matplotlib.pyplot as plt\n",
    "\n",
    "import os\n",
    "import numpy as np\n",
    "import pandas as pd\n",
    "import seaborn as sns\n",
    "import env"
   ]
  },
  {
   "cell_type": "code",
   "execution_count": 2,
   "id": "8f9e64ff",
   "metadata": {},
   "outputs": [],
   "source": [
    "def get_clean_log_data():\n",
    "    '''\n",
    "    This function acquires data, renames and \n",
    "    replaces values for readability, and drops\n",
    "    values that aren't used or are null.\n",
    "    A csv is created at the end.\n",
    "    '''\n",
    "    url = f'mysql+pymysql://{env.user}:{env.password}@{env.host}/curriculum_logs'\n",
    "    query = '''\n",
    "    SELECT *\n",
    "    FROM logs\n",
    "    LEFT JOIN cohorts ON cohorts.id= logs.cohort_id\n",
    "    '''\n",
    "    df = pd.read_sql(query, url)\n",
    "\n",
    "    df.date = pd.to_datetime(df.date)\n",
    "    df = df.set_index(df.date)\n",
    "    pages = df['path'].resample('d').count()\n",
    "\n",
    "    df['program_name']= df.program_id\n",
    "\n",
    "    df.program_name = df.program_name.replace({1.0:'full_stack_php',2.0:'full_stack_java',3.0:'data_science',4.0:'front_end'})\n",
    "\n",
    "    df = df[df.name != 'Staff']\n",
    "    \n",
    "\n",
    "    df.to_csv('curriculum_logs_edited.csv', index=False)\n",
    "    \n",
    "    return df"
   ]
  },
  {
   "cell_type": "code",
   "execution_count": 3,
   "id": "b01b9ce7",
   "metadata": {},
   "outputs": [],
   "source": [
    "def wrangle_log_data():\n",
    "    '''\n",
    "    This function checks if curriculum_logs_edited.csv exists.\n",
    "    If it doesn't, it runs a function that pulls data from \n",
    "    a sql database and clean the data. Then a csv is made.\n",
    "    '''\n",
    "    \n",
    "    filename = \"curriculum_logs_edited.csv\"\n",
    "\n",
    "    if os.path.isfile(filename):\n",
    "        df = pd.read_csv(filename)\n",
    "    else:\n",
    "        df = get_clean_log_data()\n",
    "\n",
    "    return df"
   ]
  }
 ],
 "metadata": {
  "kernelspec": {
   "display_name": "Python 3 (ipykernel)",
   "language": "python",
   "name": "python3"
  },
  "language_info": {
   "codemirror_mode": {
    "name": "ipython",
    "version": 3
   },
   "file_extension": ".py",
   "mimetype": "text/x-python",
   "name": "python",
   "nbconvert_exporter": "python",
   "pygments_lexer": "ipython3",
   "version": "3.9.12"
  }
 },
 "nbformat": 4,
 "nbformat_minor": 5
}
