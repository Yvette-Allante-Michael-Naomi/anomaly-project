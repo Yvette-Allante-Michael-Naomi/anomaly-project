{
 "cells": [
  {
   "cell_type": "code",
   "execution_count": 1,
   "id": "d203ece7",
   "metadata": {},
   "outputs": [],
   "source": [
    "import warnings\n",
    "warnings.filterwarnings(\"ignore\")\n",
    "\n",
    "import matplotlib.pyplot as plt\n",
    "import seaborn as sns\n",
    "\n",
    "import numpy as np\n",
    "import pandas as pd\n",
    "import env\n",
    "\n",
    "import Naomi_wrangle as w\n",
    "import Naomi_explore as e"
   ]
  },
  {
   "cell_type": "markdown",
   "id": "c0155ff9",
   "metadata": {},
   "source": [
    "## Questions Answered:\n",
    "  - 1. Which lesson appears to attract the most traffic consistently across cohorts (per program)?\n",
    "  - 2. Which lessons are least accessed?\n",
    "  - 3.  At some point in 2019, the ability for students and alumni to access both curriculums (web dev to ds, ds to web dev) should have been shut off. Do you see any evidence of that happening? Did it happen before?\n",
    "  - 4. Is there any suspicious activity, such as users/machines/etc accessing the curriculum who shouldn’t be? Does it appear that any web-scraping is happening? Are there any suspicious IP addresses?\n",
    "  - 5. Are there students who, when active, hardly access the curriculum? If so, what information do you have about these students?\n"
   ]
  },
  {
   "cell_type": "markdown",
   "id": "63228cab",
   "metadata": {},
   "source": [
    "## Executive Summary:\n",
    "* Question One; Lessons most trafficked: \n",
    "    * Data Science - classification \n",
    "    * Full Stack Front End - HTML-CSS\n",
    "    * Full Stack Java - javascript-i\n",
    "    * Full Stack PHP - index.html\n",
    "\n",
    "* Question Two; Lessons least trafficked:\n",
    "    * Data Science Program - case statements\n",
    "    * Full Stack Front End - content/html-css/gitbook/images/favicon.ico\n",
    "    * Full Stack Java - java scri\n",
    "    * Full Stack PHP - css\n",
    "\n",
    "* Question Three; Cross curriculum access in 2019:\n",
    "    * The year began with access being restricted, but begining in August restriciton was lifted and students could access pages cross-curriculum\n",
    "    \n",
    "* Question Four; Suspicious Activity"
   ]
  },
  {
   "cell_type": "markdown",
   "id": "6fa5015f",
   "metadata": {},
   "source": []
  },
  {
   "cell_type": "markdown",
   "id": "6330676e",
   "metadata": {},
   "source": [
    "# Acquire Data"
   ]
  },
  {
   "cell_type": "code",
   "execution_count": 2,
   "id": "108fd0d1",
   "metadata": {},
   "outputs": [
    {
     "data": {
      "text/html": [
       "<div>\n",
       "<style scoped>\n",
       "    .dataframe tbody tr th:only-of-type {\n",
       "        vertical-align: middle;\n",
       "    }\n",
       "\n",
       "    .dataframe tbody tr th {\n",
       "        vertical-align: top;\n",
       "    }\n",
       "\n",
       "    .dataframe thead th {\n",
       "        text-align: right;\n",
       "    }\n",
       "</style>\n",
       "<table border=\"1\" class=\"dataframe\">\n",
       "  <thead>\n",
       "    <tr style=\"text-align: right;\">\n",
       "      <th></th>\n",
       "      <th>time</th>\n",
       "      <th>user_id</th>\n",
       "      <th>cohort_id</th>\n",
       "      <th>ip</th>\n",
       "      <th>id</th>\n",
       "      <th>name</th>\n",
       "      <th>slack</th>\n",
       "      <th>start_date</th>\n",
       "      <th>end_date</th>\n",
       "      <th>created_at</th>\n",
       "      <th>updated_at</th>\n",
       "      <th>program_name</th>\n",
       "      <th>end_page</th>\n",
       "    </tr>\n",
       "    <tr>\n",
       "      <th>date</th>\n",
       "      <th></th>\n",
       "      <th></th>\n",
       "      <th></th>\n",
       "      <th></th>\n",
       "      <th></th>\n",
       "      <th></th>\n",
       "      <th></th>\n",
       "      <th></th>\n",
       "      <th></th>\n",
       "      <th></th>\n",
       "      <th></th>\n",
       "      <th></th>\n",
       "      <th></th>\n",
       "    </tr>\n",
       "  </thead>\n",
       "  <tbody>\n",
       "    <tr>\n",
       "      <th>2018-01-26</th>\n",
       "      <td>09:55:03</td>\n",
       "      <td>1</td>\n",
       "      <td>8.0</td>\n",
       "      <td>97.105.19.61</td>\n",
       "      <td>8.0</td>\n",
       "      <td>Hampton</td>\n",
       "      <td>#hampton</td>\n",
       "      <td>2015-09-22 00:00:00</td>\n",
       "      <td>2016-02-06 00:00:00</td>\n",
       "      <td>2016-06-14 19:52:26</td>\n",
       "      <td>2016-06-14 19:52:26</td>\n",
       "      <td>full_stack_php</td>\n",
       "      <td>/</td>\n",
       "    </tr>\n",
       "    <tr>\n",
       "      <th>2018-01-26</th>\n",
       "      <td>09:56:02</td>\n",
       "      <td>1</td>\n",
       "      <td>8.0</td>\n",
       "      <td>97.105.19.61</td>\n",
       "      <td>8.0</td>\n",
       "      <td>Hampton</td>\n",
       "      <td>#hampton</td>\n",
       "      <td>2015-09-22 00:00:00</td>\n",
       "      <td>2016-02-06 00:00:00</td>\n",
       "      <td>2016-06-14 19:52:26</td>\n",
       "      <td>2016-06-14 19:52:26</td>\n",
       "      <td>full_stack_php</td>\n",
       "      <td>java-ii</td>\n",
       "    </tr>\n",
       "    <tr>\n",
       "      <th>2018-01-26</th>\n",
       "      <td>09:56:05</td>\n",
       "      <td>1</td>\n",
       "      <td>8.0</td>\n",
       "      <td>97.105.19.61</td>\n",
       "      <td>8.0</td>\n",
       "      <td>Hampton</td>\n",
       "      <td>#hampton</td>\n",
       "      <td>2015-09-22 00:00:00</td>\n",
       "      <td>2016-02-06 00:00:00</td>\n",
       "      <td>2016-06-14 19:52:26</td>\n",
       "      <td>2016-06-14 19:52:26</td>\n",
       "      <td>full_stack_php</td>\n",
       "      <td>java-ii/object-oriented-programming</td>\n",
       "    </tr>\n",
       "  </tbody>\n",
       "</table>\n",
       "</div>"
      ],
      "text/plain": [
       "                time  user_id cohort_id            ip   id     name     slack  \\\n",
       "date                                                                            \n",
       "2018-01-26  09:55:03        1       8.0  97.105.19.61  8.0  Hampton  #hampton   \n",
       "2018-01-26  09:56:02        1       8.0  97.105.19.61  8.0  Hampton  #hampton   \n",
       "2018-01-26  09:56:05        1       8.0  97.105.19.61  8.0  Hampton  #hampton   \n",
       "\n",
       "                     start_date             end_date           created_at  \\\n",
       "date                                                                        \n",
       "2018-01-26  2015-09-22 00:00:00  2016-02-06 00:00:00  2016-06-14 19:52:26   \n",
       "2018-01-26  2015-09-22 00:00:00  2016-02-06 00:00:00  2016-06-14 19:52:26   \n",
       "2018-01-26  2015-09-22 00:00:00  2016-02-06 00:00:00  2016-06-14 19:52:26   \n",
       "\n",
       "                     updated_at    program_name  \\\n",
       "date                                              \n",
       "2018-01-26  2016-06-14 19:52:26  full_stack_php   \n",
       "2018-01-26  2016-06-14 19:52:26  full_stack_php   \n",
       "2018-01-26  2016-06-14 19:52:26  full_stack_php   \n",
       "\n",
       "                                       end_page  \n",
       "date                                             \n",
       "2018-01-26                                    /  \n",
       "2018-01-26                              java-ii  \n",
       "2018-01-26  java-ii/object-oriented-programming  "
      ]
     },
     "execution_count": 2,
     "metadata": {},
     "output_type": "execute_result"
    }
   ],
   "source": [
    "# acquire data from SQL and save to dataframe\n",
    "df = w.wrangle_curriculum_data()\n",
    "df.head(3)"
   ]
  },
  {
   "cell_type": "code",
   "execution_count": 3,
   "id": "d325c0d0",
   "metadata": {},
   "outputs": [
    {
     "name": "stdout",
     "output_type": "stream",
     "text": [
      "<class 'pandas.core.frame.DataFrame'>\n",
      "DatetimeIndex: 816192 entries, 2018-01-26 to 2021-04-21\n",
      "Data columns (total 13 columns):\n",
      " #   Column        Non-Null Count   Dtype \n",
      "---  ------        --------------   ----- \n",
      " 0   time          816192 non-null  object\n",
      " 1   user_id       816192 non-null  int64 \n",
      " 2   cohort_id     816192 non-null  object\n",
      " 3   ip            816192 non-null  object\n",
      " 4   id            816192 non-null  object\n",
      " 5   name          816192 non-null  object\n",
      " 6   slack         816192 non-null  object\n",
      " 7   start_date    816192 non-null  object\n",
      " 8   end_date      816192 non-null  object\n",
      " 9   created_at    816192 non-null  object\n",
      " 10  updated_at    816192 non-null  object\n",
      " 11  program_name  816192 non-null  object\n",
      " 12  end_page      816192 non-null  object\n",
      "dtypes: int64(1), object(12)\n",
      "memory usage: 87.2+ MB\n"
     ]
    }
   ],
   "source": [
    "df.info()"
   ]
  },
  {
   "cell_type": "markdown",
   "id": "1c1236d2",
   "metadata": {},
   "source": []
  }
 ],
 "metadata": {
  "kernelspec": {
   "display_name": "Python 3 (ipykernel)",
   "language": "python",
   "name": "python3"
  },
  "language_info": {
   "codemirror_mode": {
    "name": "ipython",
    "version": 3
   },
   "file_extension": ".py",
   "mimetype": "text/x-python",
   "name": "python",
   "nbconvert_exporter": "python",
   "pygments_lexer": "ipython3",
   "version": "3.9.12"
  }
 },
 "nbformat": 4,
 "nbformat_minor": 5
}
